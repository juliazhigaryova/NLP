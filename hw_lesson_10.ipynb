{
  "nbformat": 4,
  "nbformat_minor": 0,
  "metadata": {
    "accelerator": "GPU",
    "colab": {
      "name": "nmt_colab.ipynb",
      "provenance": [],
      "collapsed_sections": []
    },
    "kernelspec": {
      "display_name": "Python 3",
      "name": "python3"
    }
  },
  "cells": [
    {
      "cell_type": "markdown",
      "metadata": {
        "id": "J0Qjg6vuaHNt"
      },
      "source": [
        "# Машинный перевод"
      ]
    },
    {
      "cell_type": "code",
      "metadata": {
        "id": "tnxXKDjq3jEL"
      },
      "source": [
        "import tensorflow as tf\n",
        "\n",
        "import matplotlib.pyplot as plt\n",
        "import matplotlib.ticker as ticker\n",
        "from sklearn.model_selection import train_test_split\n",
        "\n",
        "import unicodedata\n",
        "import re\n",
        "import numpy as np\n",
        "import os\n",
        "import io\n",
        "import time"
      ],
      "execution_count": 1,
      "outputs": []
    },
    {
      "cell_type": "markdown",
      "metadata": {
        "id": "wfodePkj3jEa"
      },
      "source": [
        "## Загружаем и подготавливаем данные"
      ]
    },
    {
      "cell_type": "code",
      "metadata": {
        "id": "CNvjhDyAKk3U",
        "colab": {
          "base_uri": "https://localhost:8080/"
        },
        "outputId": "07cbbc0a-0d8d-48b1-8481-0ed6079e48ff"
      },
      "source": [
        "!wget http://www.manythings.org/anki/rus-eng.zip"
      ],
      "execution_count": 2,
      "outputs": [
        {
          "output_type": "stream",
          "text": [
            "--2021-07-26 06:22:46--  http://www.manythings.org/anki/rus-eng.zip\n",
            "Resolving www.manythings.org (www.manythings.org)... 172.67.186.54, 104.21.92.44, 2606:4700:3030::6815:5c2c, ...\n",
            "Connecting to www.manythings.org (www.manythings.org)|172.67.186.54|:80... connected.\n",
            "HTTP request sent, awaiting response... 200 OK\n",
            "Length: 14385451 (14M) [application/zip]\n",
            "Saving to: ‘rus-eng.zip’\n",
            "\n",
            "rus-eng.zip         100%[===================>]  13.72M  16.5MB/s    in 0.8s    \n",
            "\n",
            "2021-07-26 06:22:47 (16.5 MB/s) - ‘rus-eng.zip’ saved [14385451/14385451]\n",
            "\n"
          ],
          "name": "stdout"
        }
      ]
    },
    {
      "cell_type": "code",
      "metadata": {
        "id": "83bg17Lr-7XK",
        "colab": {
          "base_uri": "https://localhost:8080/"
        },
        "outputId": "7e7e224b-f6ac-4c03-d8ba-65c9f63e4e12"
      },
      "source": [
        "!mkdir rus-eng\n",
        "!unzip rus-eng.zip -d rus-eng/"
      ],
      "execution_count": 3,
      "outputs": [
        {
          "output_type": "stream",
          "text": [
            "Archive:  rus-eng.zip\n",
            "  inflating: rus-eng/rus.txt         \n",
            "  inflating: rus-eng/_about.txt      \n"
          ],
          "name": "stdout"
        }
      ]
    },
    {
      "cell_type": "code",
      "metadata": {
        "id": "7o5L92efMMhf",
        "colab": {
          "base_uri": "https://localhost:8080/"
        },
        "outputId": "e082d9dc-d9dd-41e4-ba13-8b6fa43f5e57"
      },
      "source": [
        "!ls /content/rus-eng/ -lah"
      ],
      "execution_count": 4,
      "outputs": [
        {
          "output_type": "stream",
          "text": [
            "total 69M\n",
            "drwxr-xr-x 2 root root 4.0K Jul 26 06:22 .\n",
            "drwxr-xr-x 1 root root 4.0K Jul 26 06:22 ..\n",
            "-rw-r--r-- 1 root root 1.5K Jul 14 10:16 _about.txt\n",
            "-rw-r--r-- 1 root root  69M Jul 14 10:16 rus.txt\n"
          ],
          "name": "stdout"
        }
      ]
    },
    {
      "cell_type": "code",
      "metadata": {
        "id": "kRVATYOgJs1b"
      },
      "source": [
        "# Download the file\n",
        "path_to_file = \"/content/rus-eng/rus.txt\""
      ],
      "execution_count": 5,
      "outputs": []
    },
    {
      "cell_type": "code",
      "metadata": {
        "id": "rd0jw-eC3jEh"
      },
      "source": [
        "def preprocess_sentence(w):\n",
        "  w = w.lower().strip()\n",
        "\n",
        "  # creating a space between a word and the punctuation following it\n",
        "  # eg: \"he is a boy.\" => \"he is a boy .\"\n",
        "  # Reference:- https://stackoverflow.com/questions/3645931/python-padding-punctuation-with-white-spaces-keeping-punctuation\n",
        "  w = re.sub(r\"([?.!,])\", r\" \\1 \", w)\n",
        "  w = re.sub(r'[\" \"]+', \" \", w)\n",
        "\n",
        "  # replacing everything with space except (a-z, A-Z, \".\", \"?\", \"!\", \",\")\n",
        "  w = re.sub(r\"[^a-zA-Zа-яА-Я?.!,']+\", \" \", w)\n",
        "\n",
        "  w = w.strip()\n",
        "\n",
        "  # adding a start and an end token to the sentence\n",
        "  # so that the model know when to start and stop predicting.\n",
        "  w = '<start> ' + w + ' <end>'\n",
        "  return w"
      ],
      "execution_count": 6,
      "outputs": []
    },
    {
      "cell_type": "code",
      "metadata": {
        "id": "yV9lZXQXNbnH",
        "colab": {
          "base_uri": "https://localhost:8080/",
          "height": 35
        },
        "outputId": "d11bcf41-5a92-459a-86ea-e6d782e5c7df"
      },
      "source": [
        "preprocess_sentence(\"I can't go.\")"
      ],
      "execution_count": 7,
      "outputs": [
        {
          "output_type": "execute_result",
          "data": {
            "application/vnd.google.colaboratory.intrinsic+json": {
              "type": "string"
            },
            "text/plain": [
              "\"<start> i can't go . <end>\""
            ]
          },
          "metadata": {
            "tags": []
          },
          "execution_count": 7
        }
      ]
    },
    {
      "cell_type": "code",
      "metadata": {
        "id": "OHn4Dct23jEm"
      },
      "source": [
        "# 1. Remove the accents\n",
        "# 2. Clean the sentences\n",
        "# 3. Return word pairs in the format: [ENG, RUS]\n",
        "def create_dataset(path, num_examples):\n",
        "  lines = io.open(path, encoding='UTF-8').read().strip().split('\\n')\n",
        "\n",
        "  word_pairs = [[preprocess_sentence(w) for w in l.split('\\t')[:2]]  for l in lines[:num_examples]]\n",
        "\n",
        "  return zip(*word_pairs)"
      ],
      "execution_count": 8,
      "outputs": []
    },
    {
      "cell_type": "code",
      "metadata": {
        "id": "cTbSbBz55QtF",
        "colab": {
          "base_uri": "https://localhost:8080/"
        },
        "outputId": "5ab8ca02-4cca-4e39-8e8d-35b432de9550"
      },
      "source": [
        "en, ru = create_dataset(path_to_file, None)\n",
        "print(en[0])\n",
        "print(ru[0])"
      ],
      "execution_count": 9,
      "outputs": [
        {
          "output_type": "stream",
          "text": [
            "<start> go . <end>\n",
            "<start> марш ! <end>\n"
          ],
          "name": "stdout"
        }
      ]
    },
    {
      "cell_type": "code",
      "metadata": {
        "id": "bIOn8RCNDJXG"
      },
      "source": [
        "def tokenize(lang):\n",
        "  lang_tokenizer = tf.keras.preprocessing.text.Tokenizer(\n",
        "      filters='')\n",
        "  lang_tokenizer.fit_on_texts(lang)\n",
        "\n",
        "  tensor = lang_tokenizer.texts_to_sequences(lang)\n",
        "\n",
        "  tensor = tf.keras.preprocessing.sequence.pad_sequences(tensor,\n",
        "                                                         padding='post')\n",
        "\n",
        "  return tensor, lang_tokenizer"
      ],
      "execution_count": 10,
      "outputs": []
    },
    {
      "cell_type": "code",
      "metadata": {
        "id": "eAY9k49G3jE_"
      },
      "source": [
        "def load_dataset(path, num_examples=None):\n",
        "  # creating cleaned input, output pairs\n",
        "  targ_lang, inp_lang = create_dataset(path, num_examples)\n",
        "\n",
        "  input_tensor, inp_lang_tokenizer = tokenize(inp_lang)\n",
        "  target_tensor, targ_lang_tokenizer = tokenize(targ_lang)\n",
        "\n",
        "  return input_tensor, target_tensor, inp_lang_tokenizer, targ_lang_tokenizer"
      ],
      "execution_count": 11,
      "outputs": []
    },
    {
      "cell_type": "markdown",
      "metadata": {
        "id": "GOi42V79Ydlr"
      },
      "source": [
        "### Ограничим размер набора данных, чтобы экспериментировать быстрее \n"
      ]
    },
    {
      "cell_type": "code",
      "metadata": {
        "id": "C8j9g9AnIeZV",
        "colab": {
          "base_uri": "https://localhost:8080/"
        },
        "outputId": "3ac59e2a-1d1e-474e-b311-9141b1e5bcac"
      },
      "source": [
        "len(en), len(ru)"
      ],
      "execution_count": 12,
      "outputs": [
        {
          "output_type": "execute_result",
          "data": {
            "text/plain": [
              "(431097, 431097)"
            ]
          },
          "metadata": {
            "tags": []
          },
          "execution_count": 12
        }
      ]
    },
    {
      "cell_type": "code",
      "metadata": {
        "id": "cnxC7q-j3jFD"
      },
      "source": [
        "# Try experimenting with the size of that dataset\n",
        "num_examples = 100000\n",
        "input_tensor, target_tensor, inp_lang, targ_lang = load_dataset(path_to_file, num_examples)\n",
        "\n",
        "# Calculate max_length of the target tensors\n",
        "max_length_targ, max_length_inp = target_tensor.shape[1], input_tensor.shape[1]"
      ],
      "execution_count": 13,
      "outputs": []
    },
    {
      "cell_type": "code",
      "metadata": {
        "id": "4QILQkOs3jFG",
        "colab": {
          "base_uri": "https://localhost:8080/"
        },
        "outputId": "372d0f01-db96-427a-abd9-5c8f3a4ab774"
      },
      "source": [
        "# Creating training and validation sets using an 80-20 split\n",
        "input_tensor_train, input_tensor_val, target_tensor_train, target_tensor_val = train_test_split(input_tensor, target_tensor, test_size=0.2)\n",
        "\n",
        "# Show length\n",
        "print(len(input_tensor_train), len(target_tensor_train), len(input_tensor_val), len(target_tensor_val))"
      ],
      "execution_count": 14,
      "outputs": [
        {
          "output_type": "stream",
          "text": [
            "80000 80000 20000 20000\n"
          ],
          "name": "stdout"
        }
      ]
    },
    {
      "cell_type": "code",
      "metadata": {
        "id": "lJPmLZGMeD5q"
      },
      "source": [
        "def convert(lang, tensor):\n",
        "  for t in tensor:\n",
        "    if t!=0:\n",
        "      print (\"%d ----> %s\" % (t, lang.index_word[t]))"
      ],
      "execution_count": 15,
      "outputs": []
    },
    {
      "cell_type": "code",
      "metadata": {
        "id": "VXukARTDd7MT",
        "colab": {
          "base_uri": "https://localhost:8080/"
        },
        "outputId": "7fc6883d-204d-40a7-c472-f07367ebb9ad"
      },
      "source": [
        "print (\"Input Language; index to word mapping\")\n",
        "convert(inp_lang, input_tensor_train[0])\n",
        "print ()\n",
        "print (\"Target Language; index to word mapping\")\n",
        "convert(targ_lang, target_tensor_train[0])"
      ],
      "execution_count": 16,
      "outputs": [
        {
          "output_type": "stream",
          "text": [
            "Input Language; index to word mapping\n",
            "1 ----> <start>\n",
            "4 ----> я\n",
            "60 ----> сейчас\n",
            "4459 ----> учу\n",
            "17133 ----> китайские\n",
            "17134 ----> иероглифы\n",
            "3 ----> .\n",
            "2 ----> <end>\n",
            "\n",
            "Target Language; index to word mapping\n",
            "1 ----> <start>\n",
            "4 ----> i\n",
            "98 ----> am\n",
            "827 ----> studying\n",
            "6396 ----> kanji\n",
            "3 ----> .\n",
            "2 ----> <end>\n"
          ],
          "name": "stdout"
        }
      ]
    },
    {
      "cell_type": "markdown",
      "metadata": {
        "id": "rgCLkfv5uO3d"
      },
      "source": [
        "### Создаем tf.data dataset"
      ]
    },
    {
      "cell_type": "code",
      "metadata": {
        "id": "TqHsArVZ3jFS"
      },
      "source": [
        "BUFFER_SIZE = len(input_tensor_train)\n",
        "BATCH_SIZE = 64\n",
        "steps_per_epoch = len(input_tensor_train)//BATCH_SIZE\n",
        "embedding_dim = 300\n",
        "units = 1024\n",
        "vocab_inp_size = len(inp_lang.word_index)+1\n",
        "vocab_tar_size = len(targ_lang.word_index)+1\n",
        "\n",
        "dataset = tf.data.Dataset.from_tensor_slices((input_tensor_train, target_tensor_train)).shuffle(BUFFER_SIZE)\n",
        "dataset = dataset.batch(BATCH_SIZE, drop_remainder=True)"
      ],
      "execution_count": 17,
      "outputs": []
    },
    {
      "cell_type": "code",
      "metadata": {
        "id": "qc6-NK1GtWQt",
        "colab": {
          "base_uri": "https://localhost:8080/"
        },
        "outputId": "70af70d4-54e7-44b1-e71f-20e9078e816d"
      },
      "source": [
        "example_input_batch, example_target_batch = next(iter(dataset))\n",
        "example_input_batch.shape, example_target_batch.shape"
      ],
      "execution_count": 18,
      "outputs": [
        {
          "output_type": "execute_result",
          "data": {
            "text/plain": [
              "(TensorShape([64, 15]), TensorShape([64, 11]))"
            ]
          },
          "metadata": {
            "tags": []
          },
          "execution_count": 18
        }
      ]
    },
    {
      "cell_type": "code",
      "metadata": {
        "id": "nZ2rI24i3jFg"
      },
      "source": [
        "class Encoder(tf.keras.Model):\n",
        "  def __init__(self, vocab_size, embedding_dim, enc_units, batch_sz):\n",
        "    super(Encoder, self).__init__()\n",
        "    self.batch_sz = batch_sz\n",
        "    self.enc_units = enc_units\n",
        "    self.embedding = tf.keras.layers.Embedding(vocab_size, embedding_dim)\n",
        "    self.gru = tf.keras.layers.GRU(self.enc_units,\n",
        "                                   return_sequences=False,\n",
        "                                   return_state=True,\n",
        "                                   recurrent_initializer='glorot_uniform')\n",
        "    \n",
        "\n",
        "  def call(self, x, hidden):\n",
        "    x = self.embedding(x)\n",
        "    output, state = self.gru(x, initial_state = hidden)\n",
        "    return state\n",
        "\n",
        "  def initialize_hidden_state(self):\n",
        "    return tf.zeros((self.batch_sz, self.enc_units))"
      ],
      "execution_count": 19,
      "outputs": []
    },
    {
      "cell_type": "code",
      "metadata": {
        "id": "60gSVh05Jl6l",
        "colab": {
          "base_uri": "https://localhost:8080/"
        },
        "outputId": "9f543802-f469-453f-e359-c9e502b7929e"
      },
      "source": [
        "encoder = Encoder(vocab_inp_size, embedding_dim, units, BATCH_SIZE)\n",
        "\n",
        "# sample input\n",
        "sample_hidden = encoder.initialize_hidden_state()\n",
        "sample_hidden = encoder(example_input_batch, sample_hidden)\n",
        "# print ('Encoder output shape: (batch size, sequence length, units) {}'.format(sample_output.shape))\n",
        "print ('Encoder Hidden state shape: (batch size, units) {}'.format(sample_hidden.shape))"
      ],
      "execution_count": 20,
      "outputs": [
        {
          "output_type": "stream",
          "text": [
            "Encoder Hidden state shape: (batch size, units) (64, 1024)\n"
          ],
          "name": "stdout"
        }
      ]
    },
    {
      "cell_type": "code",
      "metadata": {
        "id": "yJ_B3mhW3jFk"
      },
      "source": [
        "class Decoder(tf.keras.Model):\n",
        "  def __init__(self, vocab_size, embedding_dim, dec_units, batch_sz):\n",
        "    super(Decoder, self).__init__()\n",
        "    self.batch_sz = batch_sz\n",
        "    self.dec_units = dec_units\n",
        "    self.embedding = tf.keras.layers.Embedding(vocab_size, embedding_dim)\n",
        "    self.gru = tf.keras.layers.GRU(self.dec_units,\n",
        "                                   return_sequences=True,\n",
        "                                   return_state=True,\n",
        "                                   recurrent_initializer='glorot_uniform')\n",
        "    self.fc = tf.keras.layers.Dense(vocab_size)\n",
        "\n",
        "  def call(self, x, hidden):\n",
        "    # enc_output shape == (batch_size, max_length, hidden_size)\n",
        "\n",
        "    # x shape after passing through embedding == (batch_size, 1, embedding_dim)\n",
        "    x = self.embedding(x)\n",
        "\n",
        "    # x shape after concatenation == (batch_size, 1, embedding_dim + hidden_size)\n",
        "\n",
        "    # passing the concatenated vector to the GRU\n",
        "    output, state = self.gru(x, initial_state=hidden)\n",
        "\n",
        "    # output shape == (batch_size * 1, hidden_size)\n",
        "    output = tf.reshape(output, (-1, output.shape[2]))\n",
        "\n",
        "    # output shape == (batch_size, vocab)\n",
        "    x = self.fc(output)\n",
        "\n",
        "    return x, state"
      ],
      "execution_count": 21,
      "outputs": []
    },
    {
      "cell_type": "code",
      "metadata": {
        "id": "P5UY8wko3jFp"
      },
      "source": [
        "decoder = Decoder(vocab_tar_size, embedding_dim, units, BATCH_SIZE)\n",
        "\n",
        "decoder_sample_x, decoder_sample_h = decoder(tf.random.uniform((BATCH_SIZE, 1)),\n",
        "                                      sample_hidden)\n",
        "\n"
      ],
      "execution_count": 22,
      "outputs": []
    },
    {
      "cell_type": "code",
      "metadata": {
        "colab": {
          "base_uri": "https://localhost:8080/"
        },
        "id": "XKcypC0AGeLR",
        "outputId": "1cc806f7-1f99-45d8-a334-eb16eb593132"
      },
      "source": [
        "decoder_sample_x.shape"
      ],
      "execution_count": 23,
      "outputs": [
        {
          "output_type": "execute_result",
          "data": {
            "text/plain": [
              "TensorShape([64, 7260])"
            ]
          },
          "metadata": {
            "tags": []
          },
          "execution_count": 23
        }
      ]
    },
    {
      "cell_type": "code",
      "metadata": {
        "id": "6y0HF-zMF_vp",
        "colab": {
          "base_uri": "https://localhost:8080/"
        },
        "outputId": "5b4779fe-7e9c-439d-afb5-56f1ebadcdff"
      },
      "source": [
        "decoder_sample_h.shape"
      ],
      "execution_count": 24,
      "outputs": [
        {
          "output_type": "execute_result",
          "data": {
            "text/plain": [
              "TensorShape([64, 1024])"
            ]
          },
          "metadata": {
            "tags": []
          },
          "execution_count": 24
        }
      ]
    },
    {
      "cell_type": "markdown",
      "metadata": {
        "id": "_ch_71VbIRfK"
      },
      "source": [
        "## Определяем оптимизатор и  loss функцию"
      ]
    },
    {
      "cell_type": "code",
      "metadata": {
        "id": "WmTHr5iV3jFr"
      },
      "source": [
        "optimizer = tf.keras.optimizers.Adam()\n",
        "\n",
        "loss_object = tf.keras.losses.SparseCategoricalCrossentropy(\n",
        "    from_logits=True, reduction='none')\n",
        "\n",
        "def loss_function(real, pred):\n",
        "  mask = tf.math.logical_not(tf.math.equal(real, 0))\n",
        "  loss_ = loss_object(real, pred)\n",
        "\n",
        "  mask = tf.cast(mask, dtype=loss_.dtype)\n",
        "  loss_ *= mask\n",
        "\n",
        "  return tf.reduce_mean(loss_)"
      ],
      "execution_count": 25,
      "outputs": []
    },
    {
      "cell_type": "markdown",
      "metadata": {
        "id": "DMVWzzsfNl4e"
      },
      "source": [
        "## Checkpoints (Object-based saving)"
      ]
    },
    {
      "cell_type": "code",
      "metadata": {
        "id": "Zj8bXQTgNwrF"
      },
      "source": [
        "checkpoint_dir = './training_nmt_checkpoints'\n",
        "\n",
        "checkpoint_prefix = os.path.join(checkpoint_dir, \"ckpt\")\n",
        "\n",
        "checkpoint = tf.train.Checkpoint(optimizer=optimizer,\n",
        "                                 encoder=encoder,\n",
        "                                 decoder=decoder)"
      ],
      "execution_count": 26,
      "outputs": []
    },
    {
      "cell_type": "code",
      "metadata": {
        "id": "sC9ArXSsVfqn"
      },
      "source": [
        "@tf.function\n",
        "def train_step(inp, targ, enc_hidden):\n",
        "  loss = 0\n",
        "\n",
        "  with tf.GradientTape() as tape:\n",
        "    enc_hidden = encoder(inp, enc_hidden)\n",
        "\n",
        "    dec_hidden = enc_hidden\n",
        "\n",
        "    dec_input = tf.expand_dims([targ_lang.word_index['<start>']] * BATCH_SIZE, 1)\n",
        "\n",
        "    # Teacher forcing - feeding the target as the next input\n",
        "    for t in range(1, targ.shape[1]):\n",
        "      # passing enc_output to the decoder\n",
        "      predictions, dec_hidden = decoder(dec_input, dec_hidden)\n",
        "\n",
        "      loss += loss_function(targ[:, t], predictions)\n",
        "\n",
        "      # using teacher forcing\n",
        "      dec_input = tf.expand_dims(targ[:, t], 1)\n",
        "\n",
        "  batch_loss = (loss / int(targ.shape[1]))\n",
        "\n",
        "  variables = encoder.trainable_variables + decoder.trainable_variables\n",
        "\n",
        "  gradients = tape.gradient(loss, variables)\n",
        "\n",
        "  optimizer.apply_gradients(zip(gradients, variables))\n",
        "\n",
        "  return batch_loss"
      ],
      "execution_count": 27,
      "outputs": []
    },
    {
      "cell_type": "code",
      "metadata": {
        "id": "ddefjBMa3jF0",
        "colab": {
          "base_uri": "https://localhost:8080/"
        },
        "outputId": "80083cb8-c29d-4ed9-f39c-b6328dfcc312"
      },
      "source": [
        "EPOCHS = 50\n",
        "\n",
        "for epoch in range(EPOCHS):\n",
        "  start = time.time()\n",
        "\n",
        "  enc_hidden = encoder.initialize_hidden_state()\n",
        "  total_loss = 0\n",
        "\n",
        "  for (batch, (inp, targ)) in enumerate(dataset.take(steps_per_epoch)):\n",
        "    batch_loss = train_step(inp, targ, enc_hidden)\n",
        "    total_loss += batch_loss\n",
        "\n",
        "    if batch % 100 == 0:\n",
        "      print('Epoch {} Batch {} Loss {:.4f}'.format(epoch + 1,\n",
        "                                                   batch,\n",
        "                                                   batch_loss.numpy()))\n",
        "  # saving (checkpoint) the model every 2 epochs\n",
        "  if (epoch + 1) % 2 == 0:\n",
        "    checkpoint.save(file_prefix = checkpoint_prefix)\n",
        "\n",
        "  print('Epoch {} Loss {:.4f}'.format(epoch + 1,\n",
        "                                      total_loss / steps_per_epoch))\n",
        "  print('Time taken for 1 epoch {} sec\\n'.format(time.time() - start))"
      ],
      "execution_count": 28,
      "outputs": [
        {
          "output_type": "stream",
          "text": [
            "Epoch 1 Batch 0 Loss 4.7484\n",
            "Epoch 1 Batch 100 Loss 2.1192\n",
            "Epoch 1 Batch 200 Loss 1.7778\n",
            "Epoch 1 Batch 300 Loss 1.6726\n",
            "Epoch 1 Batch 400 Loss 1.6316\n",
            "Epoch 1 Batch 500 Loss 1.5718\n",
            "Epoch 1 Batch 600 Loss 1.4664\n",
            "Epoch 1 Batch 700 Loss 1.3650\n",
            "Epoch 1 Batch 800 Loss 1.4794\n",
            "Epoch 1 Batch 900 Loss 1.2572\n",
            "Epoch 1 Batch 1000 Loss 1.2531\n",
            "Epoch 1 Batch 1100 Loss 1.1908\n",
            "Epoch 1 Batch 1200 Loss 1.1907\n",
            "Epoch 1 Loss 1.5194\n",
            "Time taken for 1 epoch 122.10183382034302 sec\n",
            "\n",
            "Epoch 2 Batch 0 Loss 1.0458\n",
            "Epoch 2 Batch 100 Loss 1.0167\n",
            "Epoch 2 Batch 200 Loss 0.8997\n",
            "Epoch 2 Batch 300 Loss 0.9115\n",
            "Epoch 2 Batch 400 Loss 0.9901\n",
            "Epoch 2 Batch 500 Loss 0.9459\n",
            "Epoch 2 Batch 600 Loss 0.8731\n",
            "Epoch 2 Batch 700 Loss 0.8449\n",
            "Epoch 2 Batch 800 Loss 0.8561\n",
            "Epoch 2 Batch 900 Loss 0.8124\n",
            "Epoch 2 Batch 1000 Loss 0.7472\n",
            "Epoch 2 Batch 1100 Loss 0.7208\n",
            "Epoch 2 Batch 1200 Loss 0.6940\n",
            "Epoch 2 Loss 0.8750\n",
            "Time taken for 1 epoch 114.56753301620483 sec\n",
            "\n",
            "Epoch 3 Batch 0 Loss 0.6131\n",
            "Epoch 3 Batch 100 Loss 0.5702\n",
            "Epoch 3 Batch 200 Loss 0.5673\n",
            "Epoch 3 Batch 300 Loss 0.5896\n",
            "Epoch 3 Batch 400 Loss 0.5228\n",
            "Epoch 3 Batch 500 Loss 0.5168\n",
            "Epoch 3 Batch 600 Loss 0.5600\n",
            "Epoch 3 Batch 700 Loss 0.4951\n",
            "Epoch 3 Batch 800 Loss 0.4944\n",
            "Epoch 3 Batch 900 Loss 0.4473\n",
            "Epoch 3 Batch 1000 Loss 0.5676\n",
            "Epoch 3 Batch 1100 Loss 0.4639\n",
            "Epoch 3 Batch 1200 Loss 0.3726\n",
            "Epoch 3 Loss 0.5237\n",
            "Time taken for 1 epoch 113.97883129119873 sec\n",
            "\n",
            "Epoch 4 Batch 0 Loss 0.3432\n",
            "Epoch 4 Batch 100 Loss 0.3212\n",
            "Epoch 4 Batch 200 Loss 0.3048\n",
            "Epoch 4 Batch 300 Loss 0.3476\n",
            "Epoch 4 Batch 400 Loss 0.3323\n",
            "Epoch 4 Batch 500 Loss 0.3761\n",
            "Epoch 4 Batch 600 Loss 0.3464\n",
            "Epoch 4 Batch 700 Loss 0.2762\n",
            "Epoch 4 Batch 800 Loss 0.3176\n",
            "Epoch 4 Batch 900 Loss 0.2746\n",
            "Epoch 4 Batch 1000 Loss 0.3843\n",
            "Epoch 4 Batch 1100 Loss 0.3170\n",
            "Epoch 4 Batch 1200 Loss 0.3365\n",
            "Epoch 4 Loss 0.3172\n",
            "Time taken for 1 epoch 114.04925560951233 sec\n",
            "\n",
            "Epoch 5 Batch 0 Loss 0.2253\n",
            "Epoch 5 Batch 100 Loss 0.1722\n",
            "Epoch 5 Batch 200 Loss 0.1685\n",
            "Epoch 5 Batch 300 Loss 0.1883\n",
            "Epoch 5 Batch 400 Loss 0.2151\n",
            "Epoch 5 Batch 500 Loss 0.2336\n",
            "Epoch 5 Batch 600 Loss 0.2194\n",
            "Epoch 5 Batch 700 Loss 0.1615\n",
            "Epoch 5 Batch 800 Loss 0.1977\n",
            "Epoch 5 Batch 900 Loss 0.2519\n",
            "Epoch 5 Batch 1000 Loss 0.1846\n",
            "Epoch 5 Batch 1100 Loss 0.2132\n",
            "Epoch 5 Batch 1200 Loss 0.1671\n",
            "Epoch 5 Loss 0.2070\n",
            "Time taken for 1 epoch 113.3307433128357 sec\n",
            "\n",
            "Epoch 6 Batch 0 Loss 0.1379\n",
            "Epoch 6 Batch 100 Loss 0.1065\n",
            "Epoch 6 Batch 200 Loss 0.1444\n",
            "Epoch 6 Batch 300 Loss 0.1413\n",
            "Epoch 6 Batch 400 Loss 0.1449\n",
            "Epoch 6 Batch 500 Loss 0.1847\n",
            "Epoch 6 Batch 600 Loss 0.1297\n",
            "Epoch 6 Batch 700 Loss 0.1816\n",
            "Epoch 6 Batch 800 Loss 0.1298\n",
            "Epoch 6 Batch 900 Loss 0.1985\n",
            "Epoch 6 Batch 1000 Loss 0.2070\n",
            "Epoch 6 Batch 1100 Loss 0.1823\n",
            "Epoch 6 Batch 1200 Loss 0.1634\n",
            "Epoch 6 Loss 0.1490\n",
            "Time taken for 1 epoch 111.28954195976257 sec\n",
            "\n",
            "Epoch 7 Batch 0 Loss 0.1391\n",
            "Epoch 7 Batch 100 Loss 0.0968\n",
            "Epoch 7 Batch 200 Loss 0.1028\n",
            "Epoch 7 Batch 300 Loss 0.1378\n",
            "Epoch 7 Batch 400 Loss 0.1675\n",
            "Epoch 7 Batch 500 Loss 0.1013\n",
            "Epoch 7 Batch 600 Loss 0.1250\n",
            "Epoch 7 Batch 700 Loss 0.1258\n",
            "Epoch 7 Batch 800 Loss 0.1298\n",
            "Epoch 7 Batch 900 Loss 0.1563\n",
            "Epoch 7 Batch 1000 Loss 0.1432\n",
            "Epoch 7 Batch 1100 Loss 0.1318\n",
            "Epoch 7 Batch 1200 Loss 0.0958\n",
            "Epoch 7 Loss 0.1182\n",
            "Time taken for 1 epoch 111.92734479904175 sec\n",
            "\n",
            "Epoch 8 Batch 0 Loss 0.1094\n",
            "Epoch 8 Batch 100 Loss 0.0854\n",
            "Epoch 8 Batch 200 Loss 0.0880\n",
            "Epoch 8 Batch 300 Loss 0.0833\n",
            "Epoch 8 Batch 400 Loss 0.0642\n",
            "Epoch 8 Batch 500 Loss 0.0871\n",
            "Epoch 8 Batch 600 Loss 0.0763\n",
            "Epoch 8 Batch 700 Loss 0.1526\n",
            "Epoch 8 Batch 800 Loss 0.1096\n",
            "Epoch 8 Batch 900 Loss 0.1073\n",
            "Epoch 8 Batch 1000 Loss 0.1317\n",
            "Epoch 8 Batch 1100 Loss 0.1759\n",
            "Epoch 8 Batch 1200 Loss 0.1194\n",
            "Epoch 8 Loss 0.1007\n",
            "Time taken for 1 epoch 112.9845609664917 sec\n",
            "\n",
            "Epoch 9 Batch 0 Loss 0.0825\n",
            "Epoch 9 Batch 100 Loss 0.0778\n",
            "Epoch 9 Batch 200 Loss 0.1146\n",
            "Epoch 9 Batch 300 Loss 0.0635\n",
            "Epoch 9 Batch 400 Loss 0.1055\n",
            "Epoch 9 Batch 500 Loss 0.0761\n",
            "Epoch 9 Batch 600 Loss 0.0891\n",
            "Epoch 9 Batch 700 Loss 0.0806\n",
            "Epoch 9 Batch 800 Loss 0.1376\n",
            "Epoch 9 Batch 900 Loss 0.1004\n",
            "Epoch 9 Batch 1000 Loss 0.1078\n",
            "Epoch 9 Batch 1100 Loss 0.1305\n",
            "Epoch 9 Batch 1200 Loss 0.1048\n",
            "Epoch 9 Loss 0.0909\n",
            "Time taken for 1 epoch 112.79220843315125 sec\n",
            "\n",
            "Epoch 10 Batch 0 Loss 0.0573\n",
            "Epoch 10 Batch 100 Loss 0.0883\n",
            "Epoch 10 Batch 200 Loss 0.0523\n",
            "Epoch 10 Batch 300 Loss 0.0792\n",
            "Epoch 10 Batch 400 Loss 0.0539\n",
            "Epoch 10 Batch 500 Loss 0.0675\n",
            "Epoch 10 Batch 600 Loss 0.1256\n",
            "Epoch 10 Batch 700 Loss 0.0878\n",
            "Epoch 10 Batch 800 Loss 0.1006\n",
            "Epoch 10 Batch 900 Loss 0.0900\n",
            "Epoch 10 Batch 1000 Loss 0.0816\n",
            "Epoch 10 Batch 1100 Loss 0.0874\n",
            "Epoch 10 Batch 1200 Loss 0.0715\n",
            "Epoch 10 Loss 0.0831\n",
            "Time taken for 1 epoch 111.7347981929779 sec\n",
            "\n",
            "Epoch 11 Batch 0 Loss 0.0756\n",
            "Epoch 11 Batch 100 Loss 0.0569\n",
            "Epoch 11 Batch 200 Loss 0.0389\n",
            "Epoch 11 Batch 300 Loss 0.0728\n",
            "Epoch 11 Batch 400 Loss 0.0449\n",
            "Epoch 11 Batch 500 Loss 0.1066\n",
            "Epoch 11 Batch 600 Loss 0.0576\n",
            "Epoch 11 Batch 700 Loss 0.1065\n",
            "Epoch 11 Batch 800 Loss 0.0623\n",
            "Epoch 11 Batch 900 Loss 0.0895\n",
            "Epoch 11 Batch 1000 Loss 0.0932\n",
            "Epoch 11 Batch 1100 Loss 0.0698\n",
            "Epoch 11 Batch 1200 Loss 0.1273\n",
            "Epoch 11 Loss 0.0785\n",
            "Time taken for 1 epoch 111.68701720237732 sec\n",
            "\n",
            "Epoch 12 Batch 0 Loss 0.0429\n",
            "Epoch 12 Batch 100 Loss 0.0482\n",
            "Epoch 12 Batch 200 Loss 0.0540\n",
            "Epoch 12 Batch 300 Loss 0.0804\n",
            "Epoch 12 Batch 400 Loss 0.0776\n",
            "Epoch 12 Batch 500 Loss 0.1072\n",
            "Epoch 12 Batch 600 Loss 0.0543\n",
            "Epoch 12 Batch 700 Loss 0.0509\n",
            "Epoch 12 Batch 800 Loss 0.0871\n",
            "Epoch 12 Batch 900 Loss 0.0543\n",
            "Epoch 12 Batch 1000 Loss 0.1007\n",
            "Epoch 12 Batch 1100 Loss 0.0864\n",
            "Epoch 12 Batch 1200 Loss 0.0761\n",
            "Epoch 12 Loss 0.0744\n",
            "Time taken for 1 epoch 110.9859209060669 sec\n",
            "\n",
            "Epoch 13 Batch 0 Loss 0.0961\n",
            "Epoch 13 Batch 100 Loss 0.0708\n",
            "Epoch 13 Batch 200 Loss 0.0507\n",
            "Epoch 13 Batch 300 Loss 0.0290\n",
            "Epoch 13 Batch 400 Loss 0.0803\n",
            "Epoch 13 Batch 500 Loss 0.0697\n",
            "Epoch 13 Batch 600 Loss 0.0972\n",
            "Epoch 13 Batch 700 Loss 0.0737\n",
            "Epoch 13 Batch 800 Loss 0.0432\n",
            "Epoch 13 Batch 900 Loss 0.1069\n",
            "Epoch 13 Batch 1000 Loss 0.0892\n",
            "Epoch 13 Batch 1100 Loss 0.0675\n",
            "Epoch 13 Batch 1200 Loss 0.0779\n",
            "Epoch 13 Loss 0.0723\n",
            "Time taken for 1 epoch 112.62125706672668 sec\n",
            "\n",
            "Epoch 14 Batch 0 Loss 0.0495\n",
            "Epoch 14 Batch 100 Loss 0.0664\n",
            "Epoch 14 Batch 200 Loss 0.0606\n",
            "Epoch 14 Batch 300 Loss 0.0575\n",
            "Epoch 14 Batch 400 Loss 0.0934\n",
            "Epoch 14 Batch 500 Loss 0.0967\n",
            "Epoch 14 Batch 600 Loss 0.0370\n",
            "Epoch 14 Batch 700 Loss 0.0740\n",
            "Epoch 14 Batch 800 Loss 0.0866\n",
            "Epoch 14 Batch 900 Loss 0.1213\n",
            "Epoch 14 Batch 1000 Loss 0.0676\n",
            "Epoch 14 Batch 1100 Loss 0.0662\n",
            "Epoch 14 Batch 1200 Loss 0.1203\n",
            "Epoch 14 Loss 0.0687\n",
            "Time taken for 1 epoch 112.69858574867249 sec\n",
            "\n",
            "Epoch 15 Batch 0 Loss 0.0489\n",
            "Epoch 15 Batch 100 Loss 0.0600\n",
            "Epoch 15 Batch 200 Loss 0.0413\n",
            "Epoch 15 Batch 300 Loss 0.0627\n",
            "Epoch 15 Batch 400 Loss 0.0641\n",
            "Epoch 15 Batch 500 Loss 0.0494\n",
            "Epoch 15 Batch 600 Loss 0.0711\n",
            "Epoch 15 Batch 700 Loss 0.0399\n",
            "Epoch 15 Batch 800 Loss 0.0649\n",
            "Epoch 15 Batch 900 Loss 0.0655\n",
            "Epoch 15 Batch 1000 Loss 0.1004\n",
            "Epoch 15 Batch 1100 Loss 0.0872\n",
            "Epoch 15 Batch 1200 Loss 0.0427\n",
            "Epoch 15 Loss 0.0672\n",
            "Time taken for 1 epoch 112.67797231674194 sec\n",
            "\n",
            "Epoch 16 Batch 0 Loss 0.0419\n",
            "Epoch 16 Batch 100 Loss 0.0487\n",
            "Epoch 16 Batch 200 Loss 0.0270\n",
            "Epoch 16 Batch 300 Loss 0.0373\n",
            "Epoch 16 Batch 400 Loss 0.0636\n",
            "Epoch 16 Batch 500 Loss 0.0507\n",
            "Epoch 16 Batch 600 Loss 0.0373\n",
            "Epoch 16 Batch 700 Loss 0.0955\n",
            "Epoch 16 Batch 800 Loss 0.0589\n",
            "Epoch 16 Batch 900 Loss 0.0688\n",
            "Epoch 16 Batch 1000 Loss 0.0567\n",
            "Epoch 16 Batch 1100 Loss 0.1045\n",
            "Epoch 16 Batch 1200 Loss 0.0603\n",
            "Epoch 16 Loss 0.0647\n",
            "Time taken for 1 epoch 112.89569687843323 sec\n",
            "\n",
            "Epoch 17 Batch 0 Loss 0.0431\n",
            "Epoch 17 Batch 100 Loss 0.0317\n",
            "Epoch 17 Batch 200 Loss 0.0282\n",
            "Epoch 17 Batch 300 Loss 0.0259\n",
            "Epoch 17 Batch 400 Loss 0.0730\n",
            "Epoch 17 Batch 500 Loss 0.0284\n",
            "Epoch 17 Batch 600 Loss 0.0551\n",
            "Epoch 17 Batch 700 Loss 0.0214\n",
            "Epoch 17 Batch 800 Loss 0.0563\n",
            "Epoch 17 Batch 900 Loss 0.0672\n",
            "Epoch 17 Batch 1000 Loss 0.0865\n",
            "Epoch 17 Batch 1100 Loss 0.0507\n",
            "Epoch 17 Batch 1200 Loss 0.1010\n",
            "Epoch 17 Loss 0.0635\n",
            "Time taken for 1 epoch 112.70025181770325 sec\n",
            "\n",
            "Epoch 18 Batch 0 Loss 0.0478\n",
            "Epoch 18 Batch 100 Loss 0.0547\n",
            "Epoch 18 Batch 200 Loss 0.0510\n",
            "Epoch 18 Batch 300 Loss 0.0339\n",
            "Epoch 18 Batch 400 Loss 0.0892\n",
            "Epoch 18 Batch 500 Loss 0.0438\n",
            "Epoch 18 Batch 600 Loss 0.0563\n",
            "Epoch 18 Batch 700 Loss 0.0425\n",
            "Epoch 18 Batch 800 Loss 0.0543\n",
            "Epoch 18 Batch 900 Loss 0.0694\n",
            "Epoch 18 Batch 1000 Loss 0.0907\n",
            "Epoch 18 Batch 1100 Loss 0.0555\n",
            "Epoch 18 Batch 1200 Loss 0.0718\n",
            "Epoch 18 Loss 0.0618\n",
            "Time taken for 1 epoch 112.97231554985046 sec\n",
            "\n",
            "Epoch 19 Batch 0 Loss 0.0565\n",
            "Epoch 19 Batch 100 Loss 0.0404\n",
            "Epoch 19 Batch 200 Loss 0.0400\n",
            "Epoch 19 Batch 300 Loss 0.0429\n",
            "Epoch 19 Batch 400 Loss 0.0836\n",
            "Epoch 19 Batch 500 Loss 0.0543\n",
            "Epoch 19 Batch 600 Loss 0.0501\n",
            "Epoch 19 Batch 700 Loss 0.0336\n",
            "Epoch 19 Batch 800 Loss 0.0430\n",
            "Epoch 19 Batch 900 Loss 0.0813\n",
            "Epoch 19 Batch 1000 Loss 0.1058\n",
            "Epoch 19 Batch 1100 Loss 0.0741\n",
            "Epoch 19 Batch 1200 Loss 0.0598\n",
            "Epoch 19 Loss 0.0604\n",
            "Time taken for 1 epoch 112.3428704738617 sec\n",
            "\n",
            "Epoch 20 Batch 0 Loss 0.0910\n",
            "Epoch 20 Batch 100 Loss 0.0756\n",
            "Epoch 20 Batch 200 Loss 0.0653\n",
            "Epoch 20 Batch 300 Loss 0.0272\n",
            "Epoch 20 Batch 400 Loss 0.0558\n",
            "Epoch 20 Batch 500 Loss 0.0390\n",
            "Epoch 20 Batch 600 Loss 0.0502\n",
            "Epoch 20 Batch 700 Loss 0.0451\n",
            "Epoch 20 Batch 800 Loss 0.0388\n",
            "Epoch 20 Batch 900 Loss 0.0460\n",
            "Epoch 20 Batch 1000 Loss 0.0884\n",
            "Epoch 20 Batch 1100 Loss 0.0424\n",
            "Epoch 20 Batch 1200 Loss 0.0560\n",
            "Epoch 20 Loss 0.0596\n",
            "Time taken for 1 epoch 111.84042167663574 sec\n",
            "\n",
            "Epoch 21 Batch 0 Loss 0.0278\n",
            "Epoch 21 Batch 100 Loss 0.0437\n",
            "Epoch 21 Batch 200 Loss 0.0245\n",
            "Epoch 21 Batch 300 Loss 0.0512\n",
            "Epoch 21 Batch 400 Loss 0.0331\n",
            "Epoch 21 Batch 500 Loss 0.0699\n",
            "Epoch 21 Batch 600 Loss 0.0962\n",
            "Epoch 21 Batch 700 Loss 0.0730\n",
            "Epoch 21 Batch 800 Loss 0.0769\n",
            "Epoch 21 Batch 900 Loss 0.0586\n",
            "Epoch 21 Batch 1000 Loss 0.0591\n",
            "Epoch 21 Batch 1100 Loss 0.0448\n",
            "Epoch 21 Batch 1200 Loss 0.1041\n",
            "Epoch 21 Loss 0.0581\n",
            "Time taken for 1 epoch 111.32287359237671 sec\n",
            "\n",
            "Epoch 22 Batch 0 Loss 0.0468\n",
            "Epoch 22 Batch 100 Loss 0.0323\n",
            "Epoch 22 Batch 200 Loss 0.0525\n",
            "Epoch 22 Batch 300 Loss 0.0478\n",
            "Epoch 22 Batch 400 Loss 0.0471\n",
            "Epoch 22 Batch 500 Loss 0.0310\n",
            "Epoch 22 Batch 600 Loss 0.0658\n",
            "Epoch 22 Batch 700 Loss 0.0711\n",
            "Epoch 22 Batch 800 Loss 0.0621\n",
            "Epoch 22 Batch 900 Loss 0.0709\n",
            "Epoch 22 Batch 1000 Loss 0.0641\n",
            "Epoch 22 Batch 1100 Loss 0.0604\n",
            "Epoch 22 Batch 1200 Loss 0.0959\n",
            "Epoch 22 Loss 0.0569\n",
            "Time taken for 1 epoch 112.83908200263977 sec\n",
            "\n",
            "Epoch 23 Batch 0 Loss 0.0280\n",
            "Epoch 23 Batch 100 Loss 0.0241\n",
            "Epoch 23 Batch 200 Loss 0.0570\n",
            "Epoch 23 Batch 300 Loss 0.0500\n",
            "Epoch 23 Batch 400 Loss 0.0713\n",
            "Epoch 23 Batch 500 Loss 0.0286\n",
            "Epoch 23 Batch 600 Loss 0.0477\n",
            "Epoch 23 Batch 700 Loss 0.0392\n",
            "Epoch 23 Batch 800 Loss 0.0923\n",
            "Epoch 23 Batch 900 Loss 0.0594\n",
            "Epoch 23 Batch 1000 Loss 0.0590\n",
            "Epoch 23 Batch 1100 Loss 0.0762\n",
            "Epoch 23 Batch 1200 Loss 0.0537\n",
            "Epoch 23 Loss 0.0561\n",
            "Time taken for 1 epoch 112.2657744884491 sec\n",
            "\n",
            "Epoch 24 Batch 0 Loss 0.0304\n",
            "Epoch 24 Batch 100 Loss 0.0417\n",
            "Epoch 24 Batch 200 Loss 0.0279\n",
            "Epoch 24 Batch 300 Loss 0.0542\n",
            "Epoch 24 Batch 400 Loss 0.0373\n",
            "Epoch 24 Batch 500 Loss 0.0333\n",
            "Epoch 24 Batch 600 Loss 0.0448\n",
            "Epoch 24 Batch 700 Loss 0.0972\n",
            "Epoch 24 Batch 800 Loss 0.0512\n",
            "Epoch 24 Batch 900 Loss 0.0524\n",
            "Epoch 24 Batch 1000 Loss 0.0703\n",
            "Epoch 24 Batch 1100 Loss 0.0808\n",
            "Epoch 24 Batch 1200 Loss 0.0401\n",
            "Epoch 24 Loss 0.0548\n",
            "Time taken for 1 epoch 112.75737929344177 sec\n",
            "\n",
            "Epoch 25 Batch 0 Loss 0.0314\n",
            "Epoch 25 Batch 100 Loss 0.0224\n",
            "Epoch 25 Batch 200 Loss 0.0567\n",
            "Epoch 25 Batch 300 Loss 0.0365\n",
            "Epoch 25 Batch 400 Loss 0.0833\n",
            "Epoch 25 Batch 500 Loss 0.0492\n",
            "Epoch 25 Batch 600 Loss 0.0717\n",
            "Epoch 25 Batch 700 Loss 0.0556\n",
            "Epoch 25 Batch 800 Loss 0.0491\n",
            "Epoch 25 Batch 900 Loss 0.0762\n",
            "Epoch 25 Batch 1000 Loss 0.0491\n",
            "Epoch 25 Batch 1100 Loss 0.0578\n",
            "Epoch 25 Batch 1200 Loss 0.0363\n",
            "Epoch 25 Loss 0.0538\n",
            "Time taken for 1 epoch 112.72900605201721 sec\n",
            "\n",
            "Epoch 26 Batch 0 Loss 0.0479\n",
            "Epoch 26 Batch 100 Loss 0.0505\n",
            "Epoch 26 Batch 200 Loss 0.0447\n",
            "Epoch 26 Batch 300 Loss 0.0653\n",
            "Epoch 26 Batch 400 Loss 0.0720\n",
            "Epoch 26 Batch 500 Loss 0.0694\n",
            "Epoch 26 Batch 600 Loss 0.0359\n",
            "Epoch 26 Batch 700 Loss 0.0601\n",
            "Epoch 26 Batch 800 Loss 0.0429\n",
            "Epoch 26 Batch 900 Loss 0.0471\n",
            "Epoch 26 Batch 1000 Loss 0.0586\n",
            "Epoch 26 Batch 1100 Loss 0.0397\n",
            "Epoch 26 Batch 1200 Loss 0.0747\n",
            "Epoch 26 Loss 0.0538\n",
            "Time taken for 1 epoch 112.58892154693604 sec\n",
            "\n",
            "Epoch 27 Batch 0 Loss 0.0336\n",
            "Epoch 27 Batch 100 Loss 0.0296\n",
            "Epoch 27 Batch 200 Loss 0.0345\n",
            "Epoch 27 Batch 300 Loss 0.0422\n",
            "Epoch 27 Batch 400 Loss 0.0313\n",
            "Epoch 27 Batch 500 Loss 0.0639\n",
            "Epoch 27 Batch 600 Loss 0.0544\n",
            "Epoch 27 Batch 700 Loss 0.0360\n",
            "Epoch 27 Batch 800 Loss 0.0635\n",
            "Epoch 27 Batch 900 Loss 0.0446\n",
            "Epoch 27 Batch 1000 Loss 0.0656\n",
            "Epoch 27 Batch 1100 Loss 0.1006\n",
            "Epoch 27 Batch 1200 Loss 0.0626\n",
            "Epoch 27 Loss 0.0526\n",
            "Time taken for 1 epoch 111.99635696411133 sec\n",
            "\n",
            "Epoch 28 Batch 0 Loss 0.0201\n",
            "Epoch 28 Batch 100 Loss 0.0278\n",
            "Epoch 28 Batch 200 Loss 0.0263\n",
            "Epoch 28 Batch 300 Loss 0.0599\n",
            "Epoch 28 Batch 400 Loss 0.0249\n",
            "Epoch 28 Batch 500 Loss 0.0251\n",
            "Epoch 28 Batch 600 Loss 0.0479\n",
            "Epoch 28 Batch 700 Loss 0.0411\n",
            "Epoch 28 Batch 800 Loss 0.0409\n",
            "Epoch 28 Batch 900 Loss 0.0689\n",
            "Epoch 28 Batch 1000 Loss 0.0660\n",
            "Epoch 28 Batch 1100 Loss 0.0824\n",
            "Epoch 28 Batch 1200 Loss 0.0597\n",
            "Epoch 28 Loss 0.0516\n",
            "Time taken for 1 epoch 113.33824968338013 sec\n",
            "\n",
            "Epoch 29 Batch 0 Loss 0.0328\n",
            "Epoch 29 Batch 100 Loss 0.0168\n",
            "Epoch 29 Batch 200 Loss 0.0180\n",
            "Epoch 29 Batch 300 Loss 0.0212\n",
            "Epoch 29 Batch 400 Loss 0.0534\n",
            "Epoch 29 Batch 500 Loss 0.0595\n",
            "Epoch 29 Batch 600 Loss 0.0455\n",
            "Epoch 29 Batch 700 Loss 0.0197\n",
            "Epoch 29 Batch 800 Loss 0.0547\n",
            "Epoch 29 Batch 900 Loss 0.0537\n",
            "Epoch 29 Batch 1000 Loss 0.0594\n",
            "Epoch 29 Batch 1100 Loss 0.0602\n",
            "Epoch 29 Batch 1200 Loss 0.0722\n",
            "Epoch 29 Loss 0.0508\n",
            "Time taken for 1 epoch 111.82492995262146 sec\n",
            "\n",
            "Epoch 30 Batch 0 Loss 0.0277\n",
            "Epoch 30 Batch 100 Loss 0.0359\n",
            "Epoch 30 Batch 200 Loss 0.0559\n",
            "Epoch 30 Batch 300 Loss 0.0353\n",
            "Epoch 30 Batch 400 Loss 0.0442\n",
            "Epoch 30 Batch 500 Loss 0.0346\n",
            "Epoch 30 Batch 600 Loss 0.0458\n",
            "Epoch 30 Batch 700 Loss 0.0602\n",
            "Epoch 30 Batch 800 Loss 0.0741\n",
            "Epoch 30 Batch 900 Loss 0.0602\n",
            "Epoch 30 Batch 1000 Loss 0.0839\n",
            "Epoch 30 Batch 1100 Loss 0.0712\n",
            "Epoch 30 Batch 1200 Loss 0.0711\n",
            "Epoch 30 Loss 0.0504\n",
            "Time taken for 1 epoch 112.90476584434509 sec\n",
            "\n",
            "Epoch 31 Batch 0 Loss 0.0281\n",
            "Epoch 31 Batch 100 Loss 0.0245\n",
            "Epoch 31 Batch 200 Loss 0.0293\n",
            "Epoch 31 Batch 300 Loss 0.0402\n",
            "Epoch 31 Batch 400 Loss 0.0423\n",
            "Epoch 31 Batch 500 Loss 0.0595\n",
            "Epoch 31 Batch 600 Loss 0.0646\n",
            "Epoch 31 Batch 700 Loss 0.0484\n",
            "Epoch 31 Batch 800 Loss 0.0619\n",
            "Epoch 31 Batch 900 Loss 0.0550\n",
            "Epoch 31 Batch 1000 Loss 0.0644\n",
            "Epoch 31 Batch 1100 Loss 0.0591\n",
            "Epoch 31 Batch 1200 Loss 0.0745\n",
            "Epoch 31 Loss 0.0494\n",
            "Time taken for 1 epoch 112.26158857345581 sec\n",
            "\n",
            "Epoch 32 Batch 0 Loss 0.0570\n",
            "Epoch 32 Batch 100 Loss 0.0420\n",
            "Epoch 32 Batch 200 Loss 0.0212\n",
            "Epoch 32 Batch 300 Loss 0.0350\n",
            "Epoch 32 Batch 400 Loss 0.0359\n",
            "Epoch 32 Batch 500 Loss 0.0189\n",
            "Epoch 32 Batch 600 Loss 0.0887\n",
            "Epoch 32 Batch 700 Loss 0.0528\n",
            "Epoch 32 Batch 800 Loss 0.0358\n",
            "Epoch 32 Batch 900 Loss 0.0358\n",
            "Epoch 32 Batch 1000 Loss 0.0326\n",
            "Epoch 32 Batch 1100 Loss 0.0657\n",
            "Epoch 32 Batch 1200 Loss 0.0526\n",
            "Epoch 32 Loss 0.0488\n",
            "Time taken for 1 epoch 113.01544666290283 sec\n",
            "\n",
            "Epoch 33 Batch 0 Loss 0.0588\n",
            "Epoch 33 Batch 100 Loss 0.0400\n",
            "Epoch 33 Batch 200 Loss 0.0361\n",
            "Epoch 33 Batch 300 Loss 0.0409\n",
            "Epoch 33 Batch 400 Loss 0.0629\n",
            "Epoch 33 Batch 500 Loss 0.0643\n",
            "Epoch 33 Batch 600 Loss 0.0469\n",
            "Epoch 33 Batch 700 Loss 0.0409\n",
            "Epoch 33 Batch 800 Loss 0.0461\n",
            "Epoch 33 Batch 900 Loss 0.0450\n",
            "Epoch 33 Batch 1000 Loss 0.0354\n",
            "Epoch 33 Batch 1100 Loss 0.0505\n",
            "Epoch 33 Batch 1200 Loss 0.0201\n",
            "Epoch 33 Loss 0.0482\n",
            "Time taken for 1 epoch 113.05782437324524 sec\n",
            "\n",
            "Epoch 34 Batch 0 Loss 0.0396\n",
            "Epoch 34 Batch 100 Loss 0.0472\n",
            "Epoch 34 Batch 200 Loss 0.0309\n",
            "Epoch 34 Batch 300 Loss 0.0320\n",
            "Epoch 34 Batch 400 Loss 0.0588\n",
            "Epoch 34 Batch 500 Loss 0.0385\n",
            "Epoch 34 Batch 600 Loss 0.0397\n",
            "Epoch 34 Batch 700 Loss 0.0439\n",
            "Epoch 34 Batch 800 Loss 0.0640\n",
            "Epoch 34 Batch 900 Loss 0.0690\n",
            "Epoch 34 Batch 1000 Loss 0.0742\n",
            "Epoch 34 Batch 1100 Loss 0.0588\n",
            "Epoch 34 Batch 1200 Loss 0.0520\n",
            "Epoch 34 Loss 0.0478\n",
            "Time taken for 1 epoch 113.0510048866272 sec\n",
            "\n",
            "Epoch 35 Batch 0 Loss 0.0316\n",
            "Epoch 35 Batch 100 Loss 0.0313\n",
            "Epoch 35 Batch 200 Loss 0.0279\n",
            "Epoch 35 Batch 300 Loss 0.0182\n",
            "Epoch 35 Batch 400 Loss 0.0195\n",
            "Epoch 35 Batch 500 Loss 0.0523\n",
            "Epoch 35 Batch 600 Loss 0.0396\n",
            "Epoch 35 Batch 700 Loss 0.0373\n",
            "Epoch 35 Batch 800 Loss 0.0576\n",
            "Epoch 35 Batch 900 Loss 0.0749\n",
            "Epoch 35 Batch 1000 Loss 0.0707\n",
            "Epoch 35 Batch 1100 Loss 0.0785\n",
            "Epoch 35 Batch 1200 Loss 0.0470\n",
            "Epoch 35 Loss 0.0469\n",
            "Time taken for 1 epoch 112.30692267417908 sec\n",
            "\n",
            "Epoch 36 Batch 0 Loss 0.0242\n",
            "Epoch 36 Batch 100 Loss 0.0260\n",
            "Epoch 36 Batch 200 Loss 0.0313\n",
            "Epoch 36 Batch 300 Loss 0.0296\n",
            "Epoch 36 Batch 400 Loss 0.0470\n",
            "Epoch 36 Batch 500 Loss 0.0739\n",
            "Epoch 36 Batch 600 Loss 0.0998\n",
            "Epoch 36 Batch 700 Loss 0.0416\n",
            "Epoch 36 Batch 800 Loss 0.0717\n",
            "Epoch 36 Batch 900 Loss 0.0490\n",
            "Epoch 36 Batch 1000 Loss 0.0432\n",
            "Epoch 36 Batch 1100 Loss 0.0537\n",
            "Epoch 36 Batch 1200 Loss 0.0757\n",
            "Epoch 36 Loss 0.0463\n",
            "Time taken for 1 epoch 112.05041575431824 sec\n",
            "\n",
            "Epoch 37 Batch 0 Loss 0.0263\n",
            "Epoch 37 Batch 100 Loss 0.0248\n",
            "Epoch 37 Batch 200 Loss 0.0200\n",
            "Epoch 37 Batch 300 Loss 0.0311\n",
            "Epoch 37 Batch 400 Loss 0.0688\n",
            "Epoch 37 Batch 500 Loss 0.0346\n",
            "Epoch 37 Batch 600 Loss 0.0683\n",
            "Epoch 37 Batch 700 Loss 0.0518\n",
            "Epoch 37 Batch 800 Loss 0.0257\n",
            "Epoch 37 Batch 900 Loss 0.0364\n",
            "Epoch 37 Batch 1000 Loss 0.0085\n",
            "Epoch 37 Batch 1100 Loss 0.0523\n",
            "Epoch 37 Batch 1200 Loss 0.0321\n",
            "Epoch 37 Loss 0.0458\n",
            "Time taken for 1 epoch 112.15713906288147 sec\n",
            "\n",
            "Epoch 38 Batch 0 Loss 0.0158\n",
            "Epoch 38 Batch 100 Loss 0.0496\n",
            "Epoch 38 Batch 200 Loss 0.0305\n",
            "Epoch 38 Batch 300 Loss 0.0147\n",
            "Epoch 38 Batch 400 Loss 0.0498\n",
            "Epoch 38 Batch 500 Loss 0.0462\n",
            "Epoch 38 Batch 600 Loss 0.0322\n",
            "Epoch 38 Batch 700 Loss 0.0516\n",
            "Epoch 38 Batch 800 Loss 0.0757\n",
            "Epoch 38 Batch 900 Loss 0.0585\n",
            "Epoch 38 Batch 1000 Loss 0.0178\n",
            "Epoch 38 Batch 1100 Loss 0.0456\n",
            "Epoch 38 Batch 1200 Loss 0.0346\n",
            "Epoch 38 Loss 0.0460\n",
            "Time taken for 1 epoch 112.17293190956116 sec\n",
            "\n",
            "Epoch 39 Batch 0 Loss 0.0286\n",
            "Epoch 39 Batch 100 Loss 0.0469\n",
            "Epoch 39 Batch 200 Loss 0.0535\n",
            "Epoch 39 Batch 300 Loss 0.0323\n",
            "Epoch 39 Batch 400 Loss 0.0355\n",
            "Epoch 39 Batch 500 Loss 0.0446\n",
            "Epoch 39 Batch 600 Loss 0.0142\n",
            "Epoch 39 Batch 700 Loss 0.0328\n",
            "Epoch 39 Batch 800 Loss 0.0517\n",
            "Epoch 39 Batch 900 Loss 0.0582\n",
            "Epoch 39 Batch 1000 Loss 0.0361\n",
            "Epoch 39 Batch 1100 Loss 0.0614\n",
            "Epoch 39 Batch 1200 Loss 0.0846\n",
            "Epoch 39 Loss 0.0446\n",
            "Time taken for 1 epoch 112.7311339378357 sec\n",
            "\n",
            "Epoch 40 Batch 0 Loss 0.0352\n",
            "Epoch 40 Batch 100 Loss 0.0419\n",
            "Epoch 40 Batch 200 Loss 0.0635\n",
            "Epoch 40 Batch 300 Loss 0.0287\n",
            "Epoch 40 Batch 400 Loss 0.0535\n",
            "Epoch 40 Batch 500 Loss 0.0256\n",
            "Epoch 40 Batch 600 Loss 0.0650\n",
            "Epoch 40 Batch 700 Loss 0.0531\n",
            "Epoch 40 Batch 800 Loss 0.0448\n",
            "Epoch 40 Batch 900 Loss 0.0324\n",
            "Epoch 40 Batch 1000 Loss 0.0584\n",
            "Epoch 40 Batch 1100 Loss 0.0561\n",
            "Epoch 40 Batch 1200 Loss 0.0630\n",
            "Epoch 40 Loss 0.0441\n",
            "Time taken for 1 epoch 113.01600551605225 sec\n",
            "\n",
            "Epoch 41 Batch 0 Loss 0.0246\n",
            "Epoch 41 Batch 100 Loss 0.0269\n",
            "Epoch 41 Batch 200 Loss 0.0567\n",
            "Epoch 41 Batch 300 Loss 0.0516\n",
            "Epoch 41 Batch 400 Loss 0.0393\n",
            "Epoch 41 Batch 500 Loss 0.0382\n",
            "Epoch 41 Batch 600 Loss 0.0454\n",
            "Epoch 41 Batch 700 Loss 0.0502\n",
            "Epoch 41 Batch 800 Loss 0.0498\n",
            "Epoch 41 Batch 900 Loss 0.0520\n",
            "Epoch 41 Batch 1000 Loss 0.0461\n",
            "Epoch 41 Batch 1100 Loss 0.0647\n",
            "Epoch 41 Batch 1200 Loss 0.0612\n",
            "Epoch 41 Loss 0.0438\n",
            "Time taken for 1 epoch 112.70930790901184 sec\n",
            "\n",
            "Epoch 42 Batch 0 Loss 0.0445\n",
            "Epoch 42 Batch 100 Loss 0.0434\n",
            "Epoch 42 Batch 200 Loss 0.0447\n",
            "Epoch 42 Batch 300 Loss 0.0342\n",
            "Epoch 42 Batch 400 Loss 0.0521\n",
            "Epoch 42 Batch 500 Loss 0.0339\n",
            "Epoch 42 Batch 600 Loss 0.0528\n",
            "Epoch 42 Batch 700 Loss 0.0556\n",
            "Epoch 42 Batch 800 Loss 0.0546\n",
            "Epoch 42 Batch 900 Loss 0.0244\n",
            "Epoch 42 Batch 1000 Loss 0.0404\n",
            "Epoch 42 Batch 1100 Loss 0.0495\n",
            "Epoch 42 Batch 1200 Loss 0.0873\n",
            "Epoch 42 Loss 0.0437\n",
            "Time taken for 1 epoch 112.93263602256775 sec\n",
            "\n",
            "Epoch 43 Batch 0 Loss 0.0233\n",
            "Epoch 43 Batch 100 Loss 0.0303\n",
            "Epoch 43 Batch 200 Loss 0.0336\n",
            "Epoch 43 Batch 300 Loss 0.0353\n",
            "Epoch 43 Batch 400 Loss 0.0347\n",
            "Epoch 43 Batch 500 Loss 0.0333\n",
            "Epoch 43 Batch 600 Loss 0.1039\n",
            "Epoch 43 Batch 700 Loss 0.0549\n",
            "Epoch 43 Batch 800 Loss 0.0348\n",
            "Epoch 43 Batch 900 Loss 0.0130\n",
            "Epoch 43 Batch 1000 Loss 0.0454\n",
            "Epoch 43 Batch 1100 Loss 0.0393\n",
            "Epoch 43 Batch 1200 Loss 0.0311\n",
            "Epoch 43 Loss 0.0431\n",
            "Time taken for 1 epoch 112.89829206466675 sec\n",
            "\n",
            "Epoch 44 Batch 0 Loss 0.0226\n",
            "Epoch 44 Batch 100 Loss 0.0292\n",
            "Epoch 44 Batch 200 Loss 0.0471\n",
            "Epoch 44 Batch 300 Loss 0.0459\n",
            "Epoch 44 Batch 400 Loss 0.0393\n",
            "Epoch 44 Batch 500 Loss 0.0427\n",
            "Epoch 44 Batch 600 Loss 0.0450\n",
            "Epoch 44 Batch 700 Loss 0.0464\n",
            "Epoch 44 Batch 800 Loss 0.0222\n",
            "Epoch 44 Batch 900 Loss 0.0579\n",
            "Epoch 44 Batch 1000 Loss 0.0638\n",
            "Epoch 44 Batch 1100 Loss 0.0474\n",
            "Epoch 44 Batch 1200 Loss 0.0704\n",
            "Epoch 44 Loss 0.0429\n",
            "Time taken for 1 epoch 112.6203887462616 sec\n",
            "\n",
            "Epoch 45 Batch 0 Loss 0.0418\n",
            "Epoch 45 Batch 100 Loss 0.0258\n",
            "Epoch 45 Batch 200 Loss 0.0318\n",
            "Epoch 45 Batch 300 Loss 0.0348\n",
            "Epoch 45 Batch 400 Loss 0.0560\n",
            "Epoch 45 Batch 500 Loss 0.0289\n",
            "Epoch 45 Batch 600 Loss 0.0769\n",
            "Epoch 45 Batch 700 Loss 0.0448\n",
            "Epoch 45 Batch 800 Loss 0.0450\n",
            "Epoch 45 Batch 900 Loss 0.0570\n",
            "Epoch 45 Batch 1000 Loss 0.0638\n",
            "Epoch 45 Batch 1100 Loss 0.0410\n",
            "Epoch 45 Batch 1200 Loss 0.0653\n",
            "Epoch 45 Loss 0.0424\n",
            "Time taken for 1 epoch 113.19482803344727 sec\n",
            "\n",
            "Epoch 46 Batch 0 Loss 0.0373\n",
            "Epoch 46 Batch 100 Loss 0.0355\n",
            "Epoch 46 Batch 200 Loss 0.0259\n",
            "Epoch 46 Batch 300 Loss 0.0636\n",
            "Epoch 46 Batch 400 Loss 0.0420\n",
            "Epoch 46 Batch 500 Loss 0.0276\n",
            "Epoch 46 Batch 600 Loss 0.0370\n",
            "Epoch 46 Batch 700 Loss 0.0464\n",
            "Epoch 46 Batch 800 Loss 0.0770\n",
            "Epoch 46 Batch 900 Loss 0.0261\n",
            "Epoch 46 Batch 1000 Loss 0.0484\n",
            "Epoch 46 Batch 1100 Loss 0.0477\n",
            "Epoch 46 Batch 1200 Loss 0.0362\n",
            "Epoch 46 Loss 0.0419\n",
            "Time taken for 1 epoch 112.8788070678711 sec\n",
            "\n",
            "Epoch 47 Batch 0 Loss 0.0338\n",
            "Epoch 47 Batch 100 Loss 0.0397\n",
            "Epoch 47 Batch 200 Loss 0.0472\n",
            "Epoch 47 Batch 300 Loss 0.0372\n",
            "Epoch 47 Batch 400 Loss 0.0373\n",
            "Epoch 47 Batch 500 Loss 0.0322\n",
            "Epoch 47 Batch 600 Loss 0.0530\n",
            "Epoch 47 Batch 700 Loss 0.0403\n",
            "Epoch 47 Batch 800 Loss 0.0802\n",
            "Epoch 47 Batch 900 Loss 0.0430\n",
            "Epoch 47 Batch 1000 Loss 0.0643\n",
            "Epoch 47 Batch 1100 Loss 0.0543\n",
            "Epoch 47 Batch 1200 Loss 0.0427\n",
            "Epoch 47 Loss 0.0414\n",
            "Time taken for 1 epoch 112.05699968338013 sec\n",
            "\n",
            "Epoch 48 Batch 0 Loss 0.0320\n",
            "Epoch 48 Batch 100 Loss 0.0225\n",
            "Epoch 48 Batch 200 Loss 0.0298\n",
            "Epoch 48 Batch 300 Loss 0.0417\n",
            "Epoch 48 Batch 400 Loss 0.0336\n",
            "Epoch 48 Batch 500 Loss 0.0569\n",
            "Epoch 48 Batch 600 Loss 0.0406\n",
            "Epoch 48 Batch 700 Loss 0.0488\n",
            "Epoch 48 Batch 800 Loss 0.0400\n",
            "Epoch 48 Batch 900 Loss 0.0774\n",
            "Epoch 48 Batch 1000 Loss 0.0412\n",
            "Epoch 48 Batch 1100 Loss 0.0445\n",
            "Epoch 48 Batch 1200 Loss 0.0725\n",
            "Epoch 48 Loss 0.0414\n",
            "Time taken for 1 epoch 112.66940999031067 sec\n",
            "\n",
            "Epoch 49 Batch 0 Loss 0.0325\n",
            "Epoch 49 Batch 100 Loss 0.0249\n",
            "Epoch 49 Batch 200 Loss 0.0212\n",
            "Epoch 49 Batch 300 Loss 0.0222\n",
            "Epoch 49 Batch 400 Loss 0.0133\n",
            "Epoch 49 Batch 500 Loss 0.0280\n",
            "Epoch 49 Batch 600 Loss 0.0673\n",
            "Epoch 49 Batch 700 Loss 0.0199\n",
            "Epoch 49 Batch 800 Loss 0.0596\n",
            "Epoch 49 Batch 900 Loss 0.0985\n",
            "Epoch 49 Batch 1000 Loss 0.0494\n",
            "Epoch 49 Batch 1100 Loss 0.0290\n",
            "Epoch 49 Batch 1200 Loss 0.0840\n",
            "Epoch 49 Loss 0.0413\n",
            "Time taken for 1 epoch 112.37586617469788 sec\n",
            "\n",
            "Epoch 50 Batch 0 Loss 0.0200\n",
            "Epoch 50 Batch 100 Loss 0.0659\n",
            "Epoch 50 Batch 200 Loss 0.0284\n",
            "Epoch 50 Batch 300 Loss 0.0538\n",
            "Epoch 50 Batch 400 Loss 0.0525\n",
            "Epoch 50 Batch 500 Loss 0.0405\n",
            "Epoch 50 Batch 600 Loss 0.0748\n",
            "Epoch 50 Batch 700 Loss 0.0521\n",
            "Epoch 50 Batch 800 Loss 0.0331\n",
            "Epoch 50 Batch 900 Loss 0.0357\n",
            "Epoch 50 Batch 1000 Loss 0.0206\n",
            "Epoch 50 Batch 1100 Loss 0.0344\n",
            "Epoch 50 Batch 1200 Loss 0.0543\n",
            "Epoch 50 Loss 0.0407\n",
            "Time taken for 1 epoch 112.87331056594849 sec\n",
            "\n"
          ],
          "name": "stdout"
        }
      ]
    },
    {
      "cell_type": "markdown",
      "metadata": {
        "id": "mU3Ce8M6I3rz"
      },
      "source": [
        "## Перевод"
      ]
    },
    {
      "cell_type": "code",
      "metadata": {
        "id": "EbQpyYs13jF_"
      },
      "source": [
        "def evaluate(sentence):\n",
        "  attention_plot = np.zeros((max_length_targ, max_length_inp))\n",
        "\n",
        "  sentence = preprocess_sentence(sentence)\n",
        "\n",
        "  inputs = [inp_lang.word_index[i] for i in sentence.split(' ')]\n",
        "  inputs = tf.keras.preprocessing.sequence.pad_sequences([inputs],\n",
        "                                                         maxlen=max_length_inp,\n",
        "                                                         padding='post')\n",
        "  inputs = tf.convert_to_tensor(inputs)\n",
        "\n",
        "  result = ''\n",
        "\n",
        "  hidden = [tf.zeros((1, units))]\n",
        "  enc_hidden = encoder(inputs, hidden)\n",
        "\n",
        "  dec_hidden = enc_hidden\n",
        "  dec_input = tf.expand_dims([targ_lang.word_index['<start>']], 0)\n",
        "\n",
        "  for t in range(max_length_targ):\n",
        "    predictions, dec_hidden = decoder(dec_input, dec_hidden)\n",
        "\n",
        "    # storing the attention weights to plot later on\n",
        "    predicted_id = tf.argmax(predictions[0]).numpy()\n",
        "    result += targ_lang.index_word[predicted_id] + ' '\n",
        "\n",
        "    if targ_lang.index_word[predicted_id] == '<end>':\n",
        "      return result, sentence\n",
        "\n",
        "    # the predicted ID is fed back into the model\n",
        "    dec_input = tf.expand_dims([predicted_id], 0)\n",
        "\n",
        "  return result, sentence"
      ],
      "execution_count": 29,
      "outputs": []
    },
    {
      "cell_type": "code",
      "metadata": {
        "id": "sl9zUHzg3jGI"
      },
      "source": [
        "def translate(sentence):\n",
        "  result, sentence = evaluate(sentence)\n",
        "\n",
        "  print('Input: %s' % (sentence))\n",
        "  print('Predicted translation: {}'.format(result))"
      ],
      "execution_count": 30,
      "outputs": []
    },
    {
      "cell_type": "markdown",
      "metadata": {
        "id": "n250XbnjOaqP"
      },
      "source": [
        "## Восстанавливаем последний checkpoint and test"
      ]
    },
    {
      "cell_type": "code",
      "metadata": {
        "id": "UJpT9D5_OgP6",
        "colab": {
          "base_uri": "https://localhost:8080/"
        },
        "outputId": "3b3f6b44-9495-4cde-fd00-2137f11ff81e"
      },
      "source": [
        "# restoring the latest checkpoint in checkpoint_dir\n",
        "checkpoint.restore(tf.train.latest_checkpoint(checkpoint_dir))"
      ],
      "execution_count": 31,
      "outputs": [
        {
          "output_type": "execute_result",
          "data": {
            "text/plain": [
              "<tensorflow.python.training.tracking.util.CheckpointLoadStatus at 0x7fead11daa50>"
            ]
          },
          "metadata": {
            "tags": []
          },
          "execution_count": 31
        }
      ]
    },
    {
      "cell_type": "code",
      "metadata": {
        "id": "WrAM0FDomq3E",
        "colab": {
          "base_uri": "https://localhost:8080/"
        },
        "outputId": "b7e05b60-4e6b-4fd7-e9ce-3527844958e5"
      },
      "source": [
        "translate('Сегодня очень жарко.')"
      ],
      "execution_count": 32,
      "outputs": [
        {
          "output_type": "stream",
          "text": [
            "Input: <start> сегодня очень жарко . <end>\n",
            "Predicted translation: it's very hot today . <end> \n"
          ],
          "name": "stdout"
        }
      ]
    },
    {
      "cell_type": "code",
      "metadata": {
        "id": "5bhFfwcIMX5i",
        "colab": {
          "base_uri": "https://localhost:8080/"
        },
        "outputId": "9dfac81e-e1be-4277-f28e-8452abc81362"
      },
      "source": [
        "translate('У меня скоро отпуск.')"
      ],
      "execution_count": 33,
      "outputs": [
        {
          "output_type": "stream",
          "text": [
            "Input: <start> у меня скоро отпуск . <end>\n",
            "Predicted translation: i have another friend . <end> \n"
          ],
          "name": "stdout"
        }
      ]
    },
    {
      "cell_type": "code",
      "metadata": {
        "id": "zSx2iM36EZQZ",
        "colab": {
          "base_uri": "https://localhost:8080/"
        },
        "outputId": "093d3c29-9cdf-41d6-dac8-7d36f6c420c0"
      },
      "source": [
        "translate(u'Как Вы себя чувствуете?')"
      ],
      "execution_count": 34,
      "outputs": [
        {
          "output_type": "stream",
          "text": [
            "Input: <start> как вы себя чувствуете ? <end>\n",
            "Predicted translation: how are you feeling ? <end> \n"
          ],
          "name": "stdout"
        }
      ]
    },
    {
      "cell_type": "code",
      "metadata": {
        "id": "A3LLCx3ZE0Ls",
        "colab": {
          "base_uri": "https://localhost:8080/"
        },
        "outputId": "f0089640-8334-4446-8df2-0d459704c67f"
      },
      "source": [
        "translate(u'Нет, это нельзя сделать!')"
      ],
      "execution_count": 35,
      "outputs": [
        {
          "output_type": "stream",
          "text": [
            "Input: <start> нет , это нельзя сделать ! <end>\n",
            "Predicted translation: no , you can't do it . <end> \n"
          ],
          "name": "stdout"
        }
      ]
    },
    {
      "cell_type": "code",
      "metadata": {
        "id": "f09_hUFx9EJh",
        "colab": {
          "base_uri": "https://localhost:8080/"
        },
        "outputId": "28d92d75-77a3-4fca-ac38-f52ce2be117f"
      },
      "source": [
        "translate(u'Мне нравится лето')"
      ],
      "execution_count": 38,
      "outputs": [
        {
          "output_type": "stream",
          "text": [
            "Input: <start> мне нравится лето <end>\n",
            "Predicted translation: i like summer . <end> \n"
          ],
          "name": "stdout"
        }
      ]
    },
    {
      "cell_type": "code",
      "metadata": {
        "id": "jdXES85KkTVS"
      },
      "source": [
        ""
      ],
      "execution_count": null,
      "outputs": []
    }
  ]
}