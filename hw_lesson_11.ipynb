{
  "nbformat": 4,
  "nbformat_minor": 0,
  "metadata": {
    "accelerator": "GPU",
    "colab": {
      "name": "hw_lesson_11.ipynb",
      "provenance": [],
      "collapsed_sections": []
    },
    "kernelspec": {
      "display_name": "Python 3",
      "name": "python3"
    }
  },
  "cells": [
    {
      "cell_type": "markdown",
      "metadata": {
        "id": "J0Qjg6vuaHNt"
      },
      "source": [
        "# Neural machine translation with attention"
      ]
    },
    {
      "cell_type": "code",
      "metadata": {
        "id": "tnxXKDjq3jEL"
      },
      "source": [
        "import tensorflow as tf\n",
        "\n",
        "import matplotlib.pyplot as plt\n",
        "import matplotlib.ticker as ticker\n",
        "from sklearn.model_selection import train_test_split\n",
        "\n",
        "import unicodedata\n",
        "import re\n",
        "import numpy as np\n",
        "import os\n",
        "import io\n",
        "import time"
      ],
      "execution_count": 1,
      "outputs": []
    },
    {
      "cell_type": "code",
      "metadata": {
        "id": "2Mt1WI-2Vd-Z"
      },
      "source": [
        ""
      ],
      "execution_count": null,
      "outputs": []
    },
    {
      "cell_type": "markdown",
      "metadata": {
        "id": "wfodePkj3jEa"
      },
      "source": [
        "## Download and prepare the dataset\n",
        "\n",
        "We'll use a language dataset provided by http://www.manythings.org/anki/"
      ]
    },
    {
      "cell_type": "code",
      "metadata": {
        "id": "CNvjhDyAKk3U",
        "colab": {
          "base_uri": "https://localhost:8080/"
        },
        "outputId": "1195920c-4019-4a1a-ae2f-c9a27b69e9df"
      },
      "source": [
        "!wget http://www.manythings.org/anki/rus-eng.zip"
      ],
      "execution_count": 2,
      "outputs": [
        {
          "output_type": "stream",
          "text": [
            "--2021-07-30 13:51:09--  http://www.manythings.org/anki/rus-eng.zip\n",
            "Resolving www.manythings.org (www.manythings.org)... 172.67.186.54, 104.21.92.44, 2606:4700:3030::6815:5c2c, ...\n",
            "Connecting to www.manythings.org (www.manythings.org)|172.67.186.54|:80... connected.\n",
            "HTTP request sent, awaiting response... 200 OK\n",
            "Length: 14385451 (14M) [application/zip]\n",
            "Saving to: ‘rus-eng.zip’\n",
            "\n",
            "rus-eng.zip         100%[===================>]  13.72M  31.0MB/s    in 0.4s    \n",
            "\n",
            "2021-07-30 13:51:10 (31.0 MB/s) - ‘rus-eng.zip’ saved [14385451/14385451]\n",
            "\n"
          ],
          "name": "stdout"
        }
      ]
    },
    {
      "cell_type": "code",
      "metadata": {
        "id": "83bg17Lr-7XK",
        "colab": {
          "base_uri": "https://localhost:8080/"
        },
        "outputId": "bd98c955-0878-4dbd-a782-f1b4a9cfd230"
      },
      "source": [
        "!mkdir rus-eng\n",
        "!unzip rus-eng.zip -d rus-eng/"
      ],
      "execution_count": 3,
      "outputs": [
        {
          "output_type": "stream",
          "text": [
            "Archive:  rus-eng.zip\n",
            "  inflating: rus-eng/rus.txt         \n",
            "  inflating: rus-eng/_about.txt      \n"
          ],
          "name": "stdout"
        }
      ]
    },
    {
      "cell_type": "code",
      "metadata": {
        "id": "7o5L92efMMhf",
        "colab": {
          "base_uri": "https://localhost:8080/"
        },
        "outputId": "2c1f731d-ea13-4851-ca29-128d8064074a"
      },
      "source": [
        "!ls /content/rus-eng/ -lah"
      ],
      "execution_count": 4,
      "outputs": [
        {
          "output_type": "stream",
          "text": [
            "total 69M\n",
            "drwxr-xr-x 2 root root 4.0K Jul 30 13:53 .\n",
            "drwxr-xr-x 1 root root 4.0K Jul 30 13:53 ..\n",
            "-rw-r--r-- 1 root root 1.5K Jul 14 10:16 _about.txt\n",
            "-rw-r--r-- 1 root root  69M Jul 14 10:16 rus.txt\n"
          ],
          "name": "stdout"
        }
      ]
    },
    {
      "cell_type": "code",
      "metadata": {
        "id": "kRVATYOgJs1b"
      },
      "source": [
        "# Download the file\n",
        "path_to_file = \"/content/rus-eng/rus.txt\""
      ],
      "execution_count": 5,
      "outputs": []
    },
    {
      "cell_type": "code",
      "metadata": {
        "id": "rd0jw-eC3jEh"
      },
      "source": [
        "def preprocess_sentence(w):\n",
        "  w = w.lower().strip()\n",
        "\n",
        "  # creating a space between a word and the punctuation following it\n",
        "  # eg: \"he is a boy.\" => \"he is a boy .\"\n",
        "  # Reference:- https://stackoverflow.com/questions/3645931/python-padding-punctuation-with-white-spaces-keeping-punctuation\n",
        "  w = re.sub(r\"([?.!,])\", r\" \\1 \", w)\n",
        "  w = re.sub(r'[\" \"]+', \" \", w)\n",
        "\n",
        "  # replacing everything with space except (a-z, A-Z, \".\", \"?\", \"!\", \",\")\n",
        "  w = re.sub(r\"[^a-zA-Zа-яА-Я?.!,']+\", \" \", w)\n",
        "\n",
        "  w = w.strip()\n",
        "\n",
        "  # adding a start and an end token to the sentence\n",
        "  # so that the model know when to start and stop predicting.\n",
        "  w = '<start> ' + w + ' <end>'\n",
        "  return w"
      ],
      "execution_count": 6,
      "outputs": []
    },
    {
      "cell_type": "code",
      "metadata": {
        "id": "yV9lZXQXNbnH",
        "colab": {
          "base_uri": "https://localhost:8080/",
          "height": 35
        },
        "outputId": "3dcb03b8-fd54-4d32-a28a-6acdd8e749c1"
      },
      "source": [
        "preprocess_sentence(\"I can't go.\")"
      ],
      "execution_count": 7,
      "outputs": [
        {
          "output_type": "execute_result",
          "data": {
            "application/vnd.google.colaboratory.intrinsic+json": {
              "type": "string"
            },
            "text/plain": [
              "\"<start> i can't go . <end>\""
            ]
          },
          "metadata": {
            "tags": []
          },
          "execution_count": 7
        }
      ]
    },
    {
      "cell_type": "code",
      "metadata": {
        "id": "OHn4Dct23jEm"
      },
      "source": [
        "# 1. Remove the accents\n",
        "# 2. Clean the sentences\n",
        "# 3. Return word pairs in the format: [ENG, RUS]\n",
        "def create_dataset(path, num_examples):\n",
        "  lines = io.open(path, encoding='UTF-8').read().strip().split('\\n')\n",
        "\n",
        "  word_pairs = [[preprocess_sentence(w) for w in l.split('\\t')[:2]]  for l in lines[:num_examples]]\n",
        "\n",
        "  return zip(*word_pairs)"
      ],
      "execution_count": 8,
      "outputs": []
    },
    {
      "cell_type": "code",
      "metadata": {
        "id": "cTbSbBz55QtF",
        "colab": {
          "base_uri": "https://localhost:8080/"
        },
        "outputId": "8bcc057c-dae8-418d-e186-4dd2d99af373"
      },
      "source": [
        "en, ru = create_dataset(path_to_file, None)\n",
        "print(en[-1])\n",
        "print(ru[-1])"
      ],
      "execution_count": 9,
      "outputs": [
        {
          "output_type": "stream",
          "text": [
            "<start> doubtless there exists in this world precisely the right woman for any given man to marry and vice versa but when you consider that a human being has the opportunity of being acquainted with only a few hundred people , and out of the few hundred that there are but a dozen or less whom he knows intimately , and out of the dozen , one or two friends at most , it will easily be seen , when we remember the number of millions who inhabit this world , that probably , since the earth was created , the right man has never yet met the right woman . <end>\n",
            "<start> несомненно , для каждого мужчины в этом мире где то есть подходящая женщина , которая может стать ему женой , обратное верно и для женщин . но если учесть , что у человека может быть максимум несколько сотен знакомых , из которых лишь дюжина , а то и меньше , тех , кого он знает близко , а из этой дюжины у него один или от силы два друга , то можно легко увидеть , что с уч том миллионов живущих на земле людей , ни один подходящий мужчина , возможно , ещ не встретил подходящую женщину . <end>\n"
          ],
          "name": "stdout"
        }
      ]
    },
    {
      "cell_type": "code",
      "metadata": {
        "id": "bIOn8RCNDJXG"
      },
      "source": [
        "def tokenize(lang):\n",
        "  lang_tokenizer = tf.keras.preprocessing.text.Tokenizer(\n",
        "      filters='')\n",
        "  lang_tokenizer.fit_on_texts(lang)\n",
        "\n",
        "  tensor = lang_tokenizer.texts_to_sequences(lang)\n",
        "\n",
        "  tensor = tf.keras.preprocessing.sequence.pad_sequences(tensor,\n",
        "                                                         padding='post')\n",
        "\n",
        "  return tensor, lang_tokenizer"
      ],
      "execution_count": 10,
      "outputs": []
    },
    {
      "cell_type": "code",
      "metadata": {
        "id": "eAY9k49G3jE_"
      },
      "source": [
        "def load_dataset(path, num_examples=None):\n",
        "  # creating cleaned input, output pairs\n",
        "  targ_lang, inp_lang = create_dataset(path, num_examples)\n",
        "\n",
        "  input_tensor, inp_lang_tokenizer = tokenize(inp_lang)\n",
        "  target_tensor, targ_lang_tokenizer = tokenize(targ_lang)\n",
        "\n",
        "  return input_tensor, target_tensor, inp_lang_tokenizer, targ_lang_tokenizer"
      ],
      "execution_count": 11,
      "outputs": []
    },
    {
      "cell_type": "markdown",
      "metadata": {
        "id": "GOi42V79Ydlr"
      },
      "source": [
        "### Limit the size of the dataset to experiment faster (optional)\n"
      ]
    },
    {
      "cell_type": "code",
      "metadata": {
        "id": "C8j9g9AnIeZV",
        "colab": {
          "base_uri": "https://localhost:8080/"
        },
        "outputId": "8be8241b-5cbb-483e-e32f-8cdcc1359ef8"
      },
      "source": [
        "len(en), len(ru)"
      ],
      "execution_count": 12,
      "outputs": [
        {
          "output_type": "execute_result",
          "data": {
            "text/plain": [
              "(431097, 431097)"
            ]
          },
          "metadata": {
            "tags": []
          },
          "execution_count": 12
        }
      ]
    },
    {
      "cell_type": "code",
      "metadata": {
        "id": "cnxC7q-j3jFD"
      },
      "source": [
        "# Try experimenting with the size of that dataset\n",
        "num_examples = 100000\n",
        "input_tensor, target_tensor, inp_lang, targ_lang = load_dataset(path_to_file, num_examples)\n",
        "\n",
        "# Calculate max_length of the target tensors\n",
        "max_length_targ, max_length_inp = target_tensor.shape[1], input_tensor.shape[1]"
      ],
      "execution_count": 13,
      "outputs": []
    },
    {
      "cell_type": "code",
      "metadata": {
        "id": "4QILQkOs3jFG",
        "colab": {
          "base_uri": "https://localhost:8080/"
        },
        "outputId": "d0638c14-0f9a-4273-835c-b7a0487774ce"
      },
      "source": [
        "# Creating training and validation sets using an 80-20 split\n",
        "input_tensor_train, input_tensor_val, target_tensor_train, target_tensor_val = train_test_split(input_tensor, target_tensor, test_size=0.2)\n",
        "\n",
        "# Show length\n",
        "print(len(input_tensor_train), len(target_tensor_train), len(input_tensor_val), len(target_tensor_val))"
      ],
      "execution_count": 14,
      "outputs": [
        {
          "output_type": "stream",
          "text": [
            "80000 80000 20000 20000\n"
          ],
          "name": "stdout"
        }
      ]
    },
    {
      "cell_type": "code",
      "metadata": {
        "id": "lJPmLZGMeD5q"
      },
      "source": [
        "def convert(lang, tensor):\n",
        "  for t in tensor:\n",
        "    if t!=0:\n",
        "      print (\"%d ----> %s\" % (t, lang.index_word[t]))"
      ],
      "execution_count": 15,
      "outputs": []
    },
    {
      "cell_type": "code",
      "metadata": {
        "id": "VXukARTDd7MT",
        "colab": {
          "base_uri": "https://localhost:8080/"
        },
        "outputId": "379d5da5-aabc-4b2d-dee9-ea9b6dcfe989"
      },
      "source": [
        "print (\"Input Language; index to word mapping\")\n",
        "convert(inp_lang, input_tensor_train[0])\n",
        "print ()\n",
        "print (\"Target Language; index to word mapping\")\n",
        "convert(targ_lang, target_tensor_train[0])"
      ],
      "execution_count": 16,
      "outputs": [
        {
          "output_type": "stream",
          "text": [
            "Input Language; index to word mapping\n",
            "1 ----> <start>\n",
            "9790 ----> проконсультируйтесь\n",
            "21 ----> с\n",
            "2421 ----> врачом\n",
            "3 ----> .\n",
            "2 ----> <end>\n",
            "\n",
            "Target Language; index to word mapping\n",
            "1 ----> <start>\n",
            "2985 ----> consult\n",
            "9 ----> a\n",
            "403 ----> doctor\n",
            "3 ----> .\n",
            "2 ----> <end>\n"
          ],
          "name": "stdout"
        }
      ]
    },
    {
      "cell_type": "markdown",
      "metadata": {
        "id": "rgCLkfv5uO3d"
      },
      "source": [
        "### Create a tf.data dataset"
      ]
    },
    {
      "cell_type": "code",
      "metadata": {
        "id": "TqHsArVZ3jFS"
      },
      "source": [
        "BUFFER_SIZE = len(input_tensor_train)\n",
        "BATCH_SIZE = 64\n",
        "steps_per_epoch = len(input_tensor_train)//BATCH_SIZE\n",
        "embedding_dim = 256\n",
        "units = 1024\n",
        "vocab_inp_size = len(inp_lang.word_index)+1\n",
        "vocab_tar_size = len(targ_lang.word_index)+1\n",
        "\n",
        "dataset = tf.data.Dataset.from_tensor_slices((input_tensor_train, target_tensor_train)).shuffle(BUFFER_SIZE)\n",
        "dataset = dataset.batch(BATCH_SIZE, drop_remainder=True)"
      ],
      "execution_count": 17,
      "outputs": []
    },
    {
      "cell_type": "code",
      "metadata": {
        "id": "qc6-NK1GtWQt",
        "colab": {
          "base_uri": "https://localhost:8080/"
        },
        "outputId": "91f633c8-b52a-44c8-93b3-8fcde8313070"
      },
      "source": [
        "example_input_batch, example_target_batch = next(iter(dataset))\n",
        "example_input_batch.shape, example_target_batch.shape"
      ],
      "execution_count": 18,
      "outputs": [
        {
          "output_type": "execute_result",
          "data": {
            "text/plain": [
              "(TensorShape([64, 15]), TensorShape([64, 11]))"
            ]
          },
          "metadata": {
            "tags": []
          },
          "execution_count": 18
        }
      ]
    },
    {
      "cell_type": "code",
      "metadata": {
        "id": "nZ2rI24i3jFg"
      },
      "source": [
        "class Encoder(tf.keras.Model):\n",
        "  def __init__(self, vocab_size, embedding_dim, enc_units, batch_sz):\n",
        "    super(Encoder, self).__init__()\n",
        "    self.batch_sz = batch_sz\n",
        "    self.enc_units = enc_units\n",
        "    self.embedding = tf.keras.layers.Embedding(vocab_size, embedding_dim)\n",
        "    self.gru = tf.keras.layers.GRU(self.enc_units,\n",
        "                                   return_sequences=True,\n",
        "                                   return_state=True,\n",
        "                                   recurrent_initializer='glorot_uniform')\n",
        "\n",
        "  def call(self, x, hidden):\n",
        "    x = self.embedding(x)\n",
        "    output, state = self.gru(x, initial_state = hidden)\n",
        "    return output, state\n",
        "\n",
        "  def initialize_hidden_state(self):\n",
        "    return tf.zeros((self.batch_sz, self.enc_units))"
      ],
      "execution_count": 19,
      "outputs": []
    },
    {
      "cell_type": "code",
      "metadata": {
        "id": "60gSVh05Jl6l",
        "colab": {
          "base_uri": "https://localhost:8080/"
        },
        "outputId": "6d9fad07-e567-4e91-d918-a10f762847fa"
      },
      "source": [
        "encoder = Encoder(vocab_inp_size, embedding_dim, units, BATCH_SIZE)\n",
        "\n",
        "# sample input\n",
        "sample_hidden = encoder.initialize_hidden_state()\n",
        "sample_output, sample_hidden = encoder(example_input_batch, sample_hidden)\n",
        "print ('Encoder output shape: (batch size, sequence length, units) {}'.format(sample_output.shape))\n",
        "print ('Encoder Hidden state shape: (batch size, units) {}'.format(sample_hidden.shape))"
      ],
      "execution_count": 20,
      "outputs": [
        {
          "output_type": "stream",
          "text": [
            "Encoder output shape: (batch size, sequence length, units) (64, 15, 1024)\n",
            "Encoder Hidden state shape: (batch size, units) (64, 1024)\n"
          ],
          "name": "stdout"
        }
      ]
    },
    {
      "cell_type": "code",
      "metadata": {
        "id": "YTyhL28Niqk1"
      },
      "source": [
        "class BahdanauAttention(tf.keras.layers.Layer):\n",
        "  def __init__(self, units):\n",
        "    super(BahdanauAttention, self).__init__()\n",
        "    self.W1 = tf.keras.layers.Dense(units)\n",
        "    self.W2 = tf.keras.layers.Dense(units)\n",
        "    self.V = tf.keras.layers.Dense(1)\n",
        "\n",
        "  def call(self, query, values):\n",
        "    # query hidden state shape == (batch_size, hidden size)\n",
        "    # query_with_time_axis shape == (batch_size, 1, hidden size)\n",
        "    # values shape == (batch_size, max_len, hidden size)\n",
        "    # we are doing this to broadcast addition along the time axis to calculate the score\n",
        "    query_with_time_axis = tf.expand_dims(query, 1)\n",
        "\n",
        "    # score shape == (batch_size, max_length, 1)\n",
        "    # we get 1 at the last axis because we are applying score to self.V\n",
        "    # the shape of the tensor before applying self.V is (batch_size, max_length, units)\n",
        "    score = self.V(tf.nn.tanh(\n",
        "        self.W1(query_with_time_axis) + self.W2(values)))\n",
        "\n",
        "    # attention_weights shape == (batch_size, max_length, 1)\n",
        "    attention_weights = tf.nn.softmax(score, axis=1)\n",
        "\n",
        "    # context_vector shape after sum == (batch_size, hidden_size)\n",
        "    context_vector = attention_weights * values\n",
        "    context_vector = tf.reduce_sum(context_vector, axis=1)\n",
        "\n",
        "    return context_vector, attention_weights"
      ],
      "execution_count": 21,
      "outputs": []
    },
    {
      "cell_type": "code",
      "metadata": {
        "colab": {
          "base_uri": "https://localhost:8080/"
        },
        "id": "XUqssWcci1XJ",
        "outputId": "c27f4e84-58ca-4740-d716-080fccc5ea07"
      },
      "source": [
        "attention_layer = BahdanauAttention(10)\n",
        "attention_result, attention_weights = attention_layer(sample_hidden, sample_output)\n",
        "\n",
        "print(\"Attention result shape: (batch size, units) {}\".format(attention_result.shape))\n",
        "print(\"Attention weights shape: (batch_size, sequence_length, 1) {}\".format(attention_weights.shape))"
      ],
      "execution_count": 22,
      "outputs": [
        {
          "output_type": "stream",
          "text": [
            "Attention result shape: (batch size, units) (64, 1024)\n",
            "Attention weights shape: (batch_size, sequence_length, 1) (64, 15, 1)\n"
          ],
          "name": "stdout"
        }
      ]
    },
    {
      "cell_type": "code",
      "metadata": {
        "id": "yJ_B3mhW3jFk"
      },
      "source": [
        "class Decoder(tf.keras.Model):\n",
        "  def __init__(self, vocab_size, embedding_dim, dec_units, batch_sz):\n",
        "    super(Decoder, self).__init__()\n",
        "    self.batch_sz = batch_sz\n",
        "    self.dec_units = dec_units\n",
        "    self.embedding = tf.keras.layers.Embedding(vocab_size, embedding_dim)\n",
        "    self.gru = tf.keras.layers.GRU(self.dec_units,\n",
        "                                   return_sequences=True,\n",
        "                                   return_state=True,\n",
        "                                   recurrent_initializer='glorot_uniform')\n",
        "    self.fc = tf.keras.layers.Dense(vocab_size)\n",
        "\n",
        "    # used for attention\n",
        "    self.attention = BahdanauAttention(self.dec_units)\n",
        "\n",
        "  def call(self, x, hidden, enc_output):\n",
        "    # enc_output shape == (batch_size, max_length, hidden_size)\n",
        "    context_vector, attention_weights = self.attention(hidden, enc_output)\n",
        "\n",
        "    # x shape after passing through embedding == (batch_size, 1, embedding_dim)\n",
        "    x = self.embedding(x)\n",
        "\n",
        "    # x shape after concatenation == (batch_size, 1, embedding_dim + hidden_size)\n",
        "    x = tf.concat([tf.expand_dims(context_vector, 1), x], axis=-1)\n",
        "\n",
        "    # passing the concatenated vector to the GRU\n",
        "    output, state = self.gru(x)\n",
        "\n",
        "    # output shape == (batch_size * 1, hidden_size)\n",
        "    output = tf.reshape(output, (-1, output.shape[2]))\n",
        "\n",
        "    # output shape == (batch_size, vocab)\n",
        "    x = self.fc(output)\n",
        "\n",
        "    return x, state, attention_weights"
      ],
      "execution_count": 23,
      "outputs": []
    },
    {
      "cell_type": "code",
      "metadata": {
        "id": "P5UY8wko3jFp",
        "colab": {
          "base_uri": "https://localhost:8080/"
        },
        "outputId": "6f95b6fe-5c4c-4859-d173-6c5be6083251"
      },
      "source": [
        "decoder = Decoder(vocab_tar_size, embedding_dim, units, BATCH_SIZE)\n",
        "\n",
        "sample_decoder_output, _, _ = decoder(tf.random.uniform((BATCH_SIZE, 1)),\n",
        "                                      sample_hidden, sample_output)\n",
        "\n",
        "print ('Decoder output shape: (batch_size, vocab size) {}'.format(sample_decoder_output.shape))"
      ],
      "execution_count": 24,
      "outputs": [
        {
          "output_type": "stream",
          "text": [
            "Decoder output shape: (batch_size, vocab size) (64, 7260)\n"
          ],
          "name": "stdout"
        }
      ]
    },
    {
      "cell_type": "markdown",
      "metadata": {
        "id": "_ch_71VbIRfK"
      },
      "source": [
        "## Define the optimizer and the loss function"
      ]
    },
    {
      "cell_type": "code",
      "metadata": {
        "id": "WmTHr5iV3jFr"
      },
      "source": [
        "optimizer = tf.keras.optimizers.Adam()\n",
        "loss_object = tf.keras.losses.SparseCategoricalCrossentropy(\n",
        "    from_logits=True, reduction='none')\n",
        "\n",
        "def loss_function(real, pred):\n",
        "  mask = tf.math.logical_not(tf.math.equal(real, 0))\n",
        "  loss_ = loss_object(real, pred)\n",
        "\n",
        "  mask = tf.cast(mask, dtype=loss_.dtype)\n",
        "  loss_ *= mask\n",
        "\n",
        "  return tf.reduce_mean(loss_)"
      ],
      "execution_count": 25,
      "outputs": []
    },
    {
      "cell_type": "markdown",
      "metadata": {
        "id": "DMVWzzsfNl4e"
      },
      "source": [
        "## Checkpoints (Object-based saving)"
      ]
    },
    {
      "cell_type": "code",
      "metadata": {
        "id": "Zj8bXQTgNwrF"
      },
      "source": [
        "checkpoint_dir = './training_attention_checkpoints'\n",
        "checkpoint_prefix = os.path.join(checkpoint_dir, \"ckpt\")\n",
        "checkpoint = tf.train.Checkpoint(optimizer=optimizer,\n",
        "                                 encoder=encoder,\n",
        "                                 decoder=decoder)"
      ],
      "execution_count": 26,
      "outputs": []
    },
    {
      "cell_type": "code",
      "metadata": {
        "id": "sC9ArXSsVfqn"
      },
      "source": [
        "@tf.function\n",
        "def train_step(inp, targ, enc_hidden):\n",
        "  loss = 0\n",
        "\n",
        "  with tf.GradientTape() as tape:\n",
        "    enc_output, enc_hidden = encoder(inp, enc_hidden)\n",
        "\n",
        "    dec_hidden = enc_hidden\n",
        "\n",
        "    dec_input = tf.expand_dims([targ_lang.word_index['<start>']] * BATCH_SIZE, 1)\n",
        "\n",
        "    # Teacher forcing - feeding the target as the next input\n",
        "    for t in range(1, targ.shape[1]):\n",
        "      # passing enc_output to the decoder\n",
        "      predictions, dec_hidden, _ = decoder(dec_input, dec_hidden, enc_output)\n",
        "\n",
        "      loss += loss_function(targ[:, t], predictions)\n",
        "\n",
        "      # using teacher forcing\n",
        "      dec_input = tf.expand_dims(targ[:, t], 1)\n",
        "\n",
        "  batch_loss = (loss / int(targ.shape[1]))\n",
        "\n",
        "  variables = encoder.trainable_variables + decoder.trainable_variables\n",
        "\n",
        "  gradients = tape.gradient(loss, variables)\n",
        "\n",
        "  optimizer.apply_gradients(zip(gradients, variables))\n",
        "\n",
        "  return batch_loss"
      ],
      "execution_count": 27,
      "outputs": []
    },
    {
      "cell_type": "code",
      "metadata": {
        "id": "ddefjBMa3jF0",
        "colab": {
          "base_uri": "https://localhost:8080/"
        },
        "outputId": "4581d1ee-bf10-4fb4-a1b6-5864bbdcc8b8"
      },
      "source": [
        "EPOCHS = 50\n",
        "\n",
        "for epoch in range(EPOCHS):\n",
        "  start = time.time()\n",
        "\n",
        "  enc_hidden = encoder.initialize_hidden_state()\n",
        "  total_loss = 0\n",
        "\n",
        "  for (batch, (inp, targ)) in enumerate(dataset.take(steps_per_epoch)):\n",
        "    batch_loss = train_step(inp, targ, enc_hidden)\n",
        "    total_loss += batch_loss\n",
        "\n",
        "    if batch % 100 == 0:\n",
        "      print('Epoch {} Batch {} Loss {:.4f}'.format(epoch + 1,\n",
        "                                                   batch,\n",
        "                                                   batch_loss.numpy()))\n",
        "  # saving (checkpoint) the model every 2 epochs\n",
        "  if (epoch + 1) % 2 == 0:\n",
        "    checkpoint.save(file_prefix = checkpoint_prefix)\n",
        "\n",
        "  print('Epoch {} Loss {:.4f}'.format(epoch + 1,\n",
        "                                      total_loss / steps_per_epoch))\n",
        "  print('Time taken for 1 epoch {} sec\\n'.format(time.time() - start))"
      ],
      "execution_count": 28,
      "outputs": [
        {
          "output_type": "stream",
          "text": [
            "Epoch 1 Batch 0 Loss 4.5586\n",
            "Epoch 1 Batch 100 Loss 2.1536\n",
            "Epoch 1 Batch 200 Loss 1.9045\n",
            "Epoch 1 Batch 300 Loss 1.8560\n",
            "Epoch 1 Batch 400 Loss 1.6682\n",
            "Epoch 1 Batch 500 Loss 1.5720\n",
            "Epoch 1 Batch 600 Loss 1.3973\n",
            "Epoch 1 Batch 700 Loss 1.3153\n",
            "Epoch 1 Batch 800 Loss 1.3411\n",
            "Epoch 1 Batch 900 Loss 1.1372\n",
            "Epoch 1 Batch 1000 Loss 1.0308\n",
            "Epoch 1 Batch 1100 Loss 1.0259\n",
            "Epoch 1 Batch 1200 Loss 0.8498\n",
            "Epoch 1 Loss 1.4805\n",
            "Time taken for 1 epoch 220.21883010864258 sec\n",
            "\n",
            "Epoch 2 Batch 0 Loss 0.8318\n",
            "Epoch 2 Batch 100 Loss 0.7621\n",
            "Epoch 2 Batch 200 Loss 0.7895\n",
            "Epoch 2 Batch 300 Loss 0.6782\n",
            "Epoch 2 Batch 400 Loss 0.5289\n",
            "Epoch 2 Batch 500 Loss 0.6612\n",
            "Epoch 2 Batch 600 Loss 0.6559\n",
            "Epoch 2 Batch 700 Loss 0.5380\n",
            "Epoch 2 Batch 800 Loss 0.7005\n",
            "Epoch 2 Batch 900 Loss 0.5993\n",
            "Epoch 2 Batch 1000 Loss 0.5143\n",
            "Epoch 2 Batch 1100 Loss 0.5299\n",
            "Epoch 2 Batch 1200 Loss 0.5247\n",
            "Epoch 2 Loss 0.6323\n",
            "Time taken for 1 epoch 207.44392561912537 sec\n",
            "\n",
            "Epoch 3 Batch 0 Loss 0.4442\n",
            "Epoch 3 Batch 100 Loss 0.3089\n",
            "Epoch 3 Batch 200 Loss 0.3640\n",
            "Epoch 3 Batch 300 Loss 0.3769\n",
            "Epoch 3 Batch 400 Loss 0.3578\n",
            "Epoch 3 Batch 500 Loss 0.3008\n",
            "Epoch 3 Batch 600 Loss 0.4361\n",
            "Epoch 3 Batch 700 Loss 0.3681\n",
            "Epoch 3 Batch 800 Loss 0.4362\n",
            "Epoch 3 Batch 900 Loss 0.2874\n",
            "Epoch 3 Batch 1000 Loss 0.2538\n",
            "Epoch 3 Batch 1100 Loss 0.2423\n",
            "Epoch 3 Batch 1200 Loss 0.2862\n",
            "Epoch 3 Loss 0.3344\n",
            "Time taken for 1 epoch 209.14683938026428 sec\n",
            "\n",
            "Epoch 4 Batch 0 Loss 0.2007\n",
            "Epoch 4 Batch 100 Loss 0.1852\n",
            "Epoch 4 Batch 200 Loss 0.2556\n",
            "Epoch 4 Batch 300 Loss 0.1982\n",
            "Epoch 4 Batch 400 Loss 0.1742\n",
            "Epoch 4 Batch 500 Loss 0.2115\n",
            "Epoch 4 Batch 600 Loss 0.1780\n",
            "Epoch 4 Batch 700 Loss 0.1766\n",
            "Epoch 4 Batch 800 Loss 0.1719\n",
            "Epoch 4 Batch 900 Loss 0.2469\n",
            "Epoch 4 Batch 1000 Loss 0.2030\n",
            "Epoch 4 Batch 1100 Loss 0.2050\n",
            "Epoch 4 Batch 1200 Loss 0.2145\n",
            "Epoch 4 Loss 0.2086\n",
            "Time taken for 1 epoch 210.11969900131226 sec\n",
            "\n",
            "Epoch 5 Batch 0 Loss 0.0868\n",
            "Epoch 5 Batch 100 Loss 0.1353\n",
            "Epoch 5 Batch 200 Loss 0.1184\n",
            "Epoch 5 Batch 300 Loss 0.1543\n",
            "Epoch 5 Batch 400 Loss 0.1579\n",
            "Epoch 5 Batch 500 Loss 0.1195\n",
            "Epoch 5 Batch 600 Loss 0.1409\n",
            "Epoch 5 Batch 700 Loss 0.1228\n",
            "Epoch 5 Batch 800 Loss 0.1453\n",
            "Epoch 5 Batch 900 Loss 0.1646\n",
            "Epoch 5 Batch 1000 Loss 0.2021\n",
            "Epoch 5 Batch 1100 Loss 0.1525\n",
            "Epoch 5 Batch 1200 Loss 0.1511\n",
            "Epoch 5 Loss 0.1485\n",
            "Time taken for 1 epoch 208.97250247001648 sec\n",
            "\n",
            "Epoch 6 Batch 0 Loss 0.0779\n",
            "Epoch 6 Batch 100 Loss 0.0778\n",
            "Epoch 6 Batch 200 Loss 0.0766\n",
            "Epoch 6 Batch 300 Loss 0.1281\n",
            "Epoch 6 Batch 400 Loss 0.1079\n",
            "Epoch 6 Batch 500 Loss 0.1293\n",
            "Epoch 6 Batch 600 Loss 0.1262\n",
            "Epoch 6 Batch 700 Loss 0.1184\n",
            "Epoch 6 Batch 800 Loss 0.1016\n",
            "Epoch 6 Batch 900 Loss 0.1252\n",
            "Epoch 6 Batch 1000 Loss 0.1498\n",
            "Epoch 6 Batch 1100 Loss 0.1092\n",
            "Epoch 6 Batch 1200 Loss 0.1342\n",
            "Epoch 6 Loss 0.1175\n",
            "Time taken for 1 epoch 209.7485795021057 sec\n",
            "\n",
            "Epoch 7 Batch 0 Loss 0.0731\n",
            "Epoch 7 Batch 100 Loss 0.1033\n",
            "Epoch 7 Batch 200 Loss 0.0789\n",
            "Epoch 7 Batch 300 Loss 0.0711\n",
            "Epoch 7 Batch 400 Loss 0.1233\n",
            "Epoch 7 Batch 500 Loss 0.0876\n",
            "Epoch 7 Batch 600 Loss 0.1049\n",
            "Epoch 7 Batch 700 Loss 0.0971\n",
            "Epoch 7 Batch 800 Loss 0.0945\n",
            "Epoch 7 Batch 900 Loss 0.0996\n",
            "Epoch 7 Batch 1000 Loss 0.1285\n",
            "Epoch 7 Batch 1100 Loss 0.1226\n",
            "Epoch 7 Batch 1200 Loss 0.0826\n",
            "Epoch 7 Loss 0.1001\n",
            "Time taken for 1 epoch 209.4687581062317 sec\n",
            "\n",
            "Epoch 8 Batch 0 Loss 0.1013\n",
            "Epoch 8 Batch 100 Loss 0.0702\n",
            "Epoch 8 Batch 200 Loss 0.0733\n",
            "Epoch 8 Batch 300 Loss 0.0687\n",
            "Epoch 8 Batch 400 Loss 0.0720\n",
            "Epoch 8 Batch 500 Loss 0.0990\n",
            "Epoch 8 Batch 600 Loss 0.0619\n",
            "Epoch 8 Batch 700 Loss 0.0921\n",
            "Epoch 8 Batch 800 Loss 0.0809\n",
            "Epoch 8 Batch 900 Loss 0.0995\n",
            "Epoch 8 Batch 1000 Loss 0.1107\n",
            "Epoch 8 Batch 1100 Loss 0.0772\n",
            "Epoch 8 Batch 1200 Loss 0.1089\n",
            "Epoch 8 Loss 0.0889\n",
            "Time taken for 1 epoch 210.08750653266907 sec\n",
            "\n",
            "Epoch 9 Batch 0 Loss 0.0837\n",
            "Epoch 9 Batch 100 Loss 0.0602\n",
            "Epoch 9 Batch 200 Loss 0.0665\n",
            "Epoch 9 Batch 300 Loss 0.1035\n",
            "Epoch 9 Batch 400 Loss 0.0903\n",
            "Epoch 9 Batch 500 Loss 0.0687\n",
            "Epoch 9 Batch 600 Loss 0.0748\n",
            "Epoch 9 Batch 700 Loss 0.0880\n",
            "Epoch 9 Batch 800 Loss 0.0866\n",
            "Epoch 9 Batch 900 Loss 0.0734\n",
            "Epoch 9 Batch 1000 Loss 0.0740\n",
            "Epoch 9 Batch 1100 Loss 0.0779\n",
            "Epoch 9 Batch 1200 Loss 0.0937\n",
            "Epoch 9 Loss 0.0822\n",
            "Time taken for 1 epoch 209.42625975608826 sec\n",
            "\n",
            "Epoch 10 Batch 0 Loss 0.1150\n",
            "Epoch 10 Batch 100 Loss 0.0629\n",
            "Epoch 10 Batch 200 Loss 0.0579\n",
            "Epoch 10 Batch 300 Loss 0.0721\n",
            "Epoch 10 Batch 400 Loss 0.0633\n",
            "Epoch 10 Batch 500 Loss 0.1036\n",
            "Epoch 10 Batch 600 Loss 0.0767\n",
            "Epoch 10 Batch 700 Loss 0.0572\n",
            "Epoch 10 Batch 800 Loss 0.1171\n",
            "Epoch 10 Batch 900 Loss 0.0739\n",
            "Epoch 10 Batch 1000 Loss 0.0793\n",
            "Epoch 10 Batch 1100 Loss 0.0871\n",
            "Epoch 10 Batch 1200 Loss 0.0935\n",
            "Epoch 10 Loss 0.0771\n",
            "Time taken for 1 epoch 210.3686420917511 sec\n",
            "\n",
            "Epoch 11 Batch 0 Loss 0.0666\n",
            "Epoch 11 Batch 100 Loss 0.0553\n",
            "Epoch 11 Batch 200 Loss 0.0797\n",
            "Epoch 11 Batch 300 Loss 0.0705\n",
            "Epoch 11 Batch 400 Loss 0.0407\n",
            "Epoch 11 Batch 500 Loss 0.0634\n",
            "Epoch 11 Batch 600 Loss 0.0647\n",
            "Epoch 11 Batch 700 Loss 0.0918\n",
            "Epoch 11 Batch 800 Loss 0.0553\n",
            "Epoch 11 Batch 900 Loss 0.0777\n",
            "Epoch 11 Batch 1000 Loss 0.1136\n",
            "Epoch 11 Batch 1100 Loss 0.1022\n",
            "Epoch 11 Batch 1200 Loss 0.0461\n",
            "Epoch 11 Loss 0.0718\n",
            "Time taken for 1 epoch 209.2446551322937 sec\n",
            "\n",
            "Epoch 12 Batch 0 Loss 0.0852\n",
            "Epoch 12 Batch 100 Loss 0.0512\n",
            "Epoch 12 Batch 200 Loss 0.1189\n",
            "Epoch 12 Batch 300 Loss 0.0441\n",
            "Epoch 12 Batch 400 Loss 0.0451\n",
            "Epoch 12 Batch 500 Loss 0.0425\n",
            "Epoch 12 Batch 600 Loss 0.0560\n",
            "Epoch 12 Batch 700 Loss 0.0592\n",
            "Epoch 12 Batch 800 Loss 0.0776\n",
            "Epoch 12 Batch 900 Loss 0.0989\n",
            "Epoch 12 Batch 1000 Loss 0.0624\n",
            "Epoch 12 Batch 1100 Loss 0.1008\n",
            "Epoch 12 Batch 1200 Loss 0.0557\n",
            "Epoch 12 Loss 0.0683\n",
            "Time taken for 1 epoch 210.2158567905426 sec\n",
            "\n",
            "Epoch 13 Batch 0 Loss 0.0781\n",
            "Epoch 13 Batch 100 Loss 0.0554\n",
            "Epoch 13 Batch 200 Loss 0.0449\n",
            "Epoch 13 Batch 300 Loss 0.0630\n",
            "Epoch 13 Batch 400 Loss 0.0674\n",
            "Epoch 13 Batch 500 Loss 0.0567\n",
            "Epoch 13 Batch 600 Loss 0.0944\n",
            "Epoch 13 Batch 700 Loss 0.0516\n",
            "Epoch 13 Batch 800 Loss 0.0851\n",
            "Epoch 13 Batch 900 Loss 0.0937\n",
            "Epoch 13 Batch 1000 Loss 0.0749\n",
            "Epoch 13 Batch 1100 Loss 0.1103\n",
            "Epoch 13 Batch 1200 Loss 0.0765\n",
            "Epoch 13 Loss 0.0660\n",
            "Time taken for 1 epoch 209.06873965263367 sec\n",
            "\n",
            "Epoch 14 Batch 0 Loss 0.0414\n",
            "Epoch 14 Batch 100 Loss 0.0524\n",
            "Epoch 14 Batch 200 Loss 0.0494\n",
            "Epoch 14 Batch 300 Loss 0.0586\n",
            "Epoch 14 Batch 400 Loss 0.0693\n",
            "Epoch 14 Batch 500 Loss 0.0449\n",
            "Epoch 14 Batch 600 Loss 0.0494\n",
            "Epoch 14 Batch 700 Loss 0.0763\n",
            "Epoch 14 Batch 800 Loss 0.0620\n",
            "Epoch 14 Batch 900 Loss 0.0826\n",
            "Epoch 14 Batch 1000 Loss 0.0832\n",
            "Epoch 14 Batch 1100 Loss 0.1181\n",
            "Epoch 14 Batch 1200 Loss 0.0818\n",
            "Epoch 14 Loss 0.0635\n",
            "Time taken for 1 epoch 209.62604427337646 sec\n",
            "\n",
            "Epoch 15 Batch 0 Loss 0.0626\n",
            "Epoch 15 Batch 100 Loss 0.0644\n",
            "Epoch 15 Batch 200 Loss 0.0442\n",
            "Epoch 15 Batch 300 Loss 0.0457\n",
            "Epoch 15 Batch 400 Loss 0.0561\n",
            "Epoch 15 Batch 500 Loss 0.0804\n",
            "Epoch 15 Batch 600 Loss 0.0709\n",
            "Epoch 15 Batch 700 Loss 0.0590\n",
            "Epoch 15 Batch 800 Loss 0.0550\n",
            "Epoch 15 Batch 900 Loss 0.0371\n",
            "Epoch 15 Batch 1000 Loss 0.0672\n",
            "Epoch 15 Batch 1100 Loss 0.0704\n",
            "Epoch 15 Batch 1200 Loss 0.0802\n",
            "Epoch 15 Loss 0.0616\n",
            "Time taken for 1 epoch 209.26588416099548 sec\n",
            "\n",
            "Epoch 16 Batch 0 Loss 0.0477\n",
            "Epoch 16 Batch 100 Loss 0.0597\n",
            "Epoch 16 Batch 200 Loss 0.0391\n",
            "Epoch 16 Batch 300 Loss 0.0384\n",
            "Epoch 16 Batch 400 Loss 0.0687\n",
            "Epoch 16 Batch 500 Loss 0.0559\n",
            "Epoch 16 Batch 600 Loss 0.0601\n",
            "Epoch 16 Batch 700 Loss 0.0586\n",
            "Epoch 16 Batch 800 Loss 0.0627\n",
            "Epoch 16 Batch 900 Loss 0.0758\n",
            "Epoch 16 Batch 1000 Loss 0.0750\n",
            "Epoch 16 Batch 1100 Loss 0.0504\n",
            "Epoch 16 Batch 1200 Loss 0.0473\n",
            "Epoch 16 Loss 0.0597\n",
            "Time taken for 1 epoch 209.70734095573425 sec\n",
            "\n",
            "Epoch 17 Batch 0 Loss 0.0210\n",
            "Epoch 17 Batch 100 Loss 0.0486\n",
            "Epoch 17 Batch 200 Loss 0.0624\n",
            "Epoch 17 Batch 300 Loss 0.0304\n",
            "Epoch 17 Batch 400 Loss 0.0630\n",
            "Epoch 17 Batch 500 Loss 0.0215\n",
            "Epoch 17 Batch 600 Loss 0.0507\n",
            "Epoch 17 Batch 700 Loss 0.0862\n",
            "Epoch 17 Batch 800 Loss 0.0583\n",
            "Epoch 17 Batch 900 Loss 0.0563\n",
            "Epoch 17 Batch 1000 Loss 0.0718\n",
            "Epoch 17 Batch 1100 Loss 0.0667\n",
            "Epoch 17 Batch 1200 Loss 0.0678\n",
            "Epoch 17 Loss 0.0579\n",
            "Time taken for 1 epoch 209.46452569961548 sec\n",
            "\n",
            "Epoch 18 Batch 0 Loss 0.0417\n",
            "Epoch 18 Batch 100 Loss 0.0394\n",
            "Epoch 18 Batch 200 Loss 0.0339\n",
            "Epoch 18 Batch 300 Loss 0.0555\n",
            "Epoch 18 Batch 400 Loss 0.0515\n",
            "Epoch 18 Batch 500 Loss 0.0642\n",
            "Epoch 18 Batch 600 Loss 0.0291\n",
            "Epoch 18 Batch 700 Loss 0.0590\n",
            "Epoch 18 Batch 800 Loss 0.0736\n",
            "Epoch 18 Batch 900 Loss 0.0669\n",
            "Epoch 18 Batch 1000 Loss 0.0687\n",
            "Epoch 18 Batch 1100 Loss 0.0425\n",
            "Epoch 18 Batch 1200 Loss 0.0874\n",
            "Epoch 18 Loss 0.0564\n",
            "Time taken for 1 epoch 209.67098784446716 sec\n",
            "\n",
            "Epoch 19 Batch 0 Loss 0.0498\n",
            "Epoch 19 Batch 100 Loss 0.0210\n",
            "Epoch 19 Batch 200 Loss 0.0497\n",
            "Epoch 19 Batch 300 Loss 0.0358\n",
            "Epoch 19 Batch 400 Loss 0.0329\n",
            "Epoch 19 Batch 500 Loss 0.0418\n",
            "Epoch 19 Batch 600 Loss 0.0428\n",
            "Epoch 19 Batch 700 Loss 0.0743\n",
            "Epoch 19 Batch 800 Loss 0.0491\n",
            "Epoch 19 Batch 900 Loss 0.0528\n",
            "Epoch 19 Batch 1000 Loss 0.0880\n",
            "Epoch 19 Batch 1100 Loss 0.0559\n",
            "Epoch 19 Batch 1200 Loss 0.0634\n",
            "Epoch 19 Loss 0.0546\n",
            "Time taken for 1 epoch 209.1333508491516 sec\n",
            "\n",
            "Epoch 20 Batch 0 Loss 0.0639\n",
            "Epoch 20 Batch 100 Loss 0.0435\n",
            "Epoch 20 Batch 200 Loss 0.0328\n",
            "Epoch 20 Batch 300 Loss 0.0516\n",
            "Epoch 20 Batch 400 Loss 0.0475\n",
            "Epoch 20 Batch 500 Loss 0.0923\n",
            "Epoch 20 Batch 600 Loss 0.0442\n",
            "Epoch 20 Batch 700 Loss 0.0545\n",
            "Epoch 20 Batch 800 Loss 0.0619\n",
            "Epoch 20 Batch 900 Loss 0.0689\n",
            "Epoch 20 Batch 1000 Loss 0.0883\n",
            "Epoch 20 Batch 1100 Loss 0.0633\n",
            "Epoch 20 Batch 1200 Loss 0.0516\n",
            "Epoch 20 Loss 0.0552\n",
            "Time taken for 1 epoch 209.64974451065063 sec\n",
            "\n",
            "Epoch 21 Batch 0 Loss 0.0302\n",
            "Epoch 21 Batch 100 Loss 0.0492\n",
            "Epoch 21 Batch 200 Loss 0.0476\n",
            "Epoch 21 Batch 300 Loss 0.0410\n",
            "Epoch 21 Batch 400 Loss 0.0464\n",
            "Epoch 21 Batch 500 Loss 0.0637\n",
            "Epoch 21 Batch 600 Loss 0.0447\n",
            "Epoch 21 Batch 700 Loss 0.0439\n",
            "Epoch 21 Batch 800 Loss 0.0745\n",
            "Epoch 21 Batch 900 Loss 0.0647\n",
            "Epoch 21 Batch 1000 Loss 0.0421\n",
            "Epoch 21 Batch 1100 Loss 0.0825\n",
            "Epoch 21 Batch 1200 Loss 0.0756\n",
            "Epoch 21 Loss 0.0534\n",
            "Time taken for 1 epoch 208.87923407554626 sec\n",
            "\n",
            "Epoch 22 Batch 0 Loss 0.0384\n",
            "Epoch 22 Batch 100 Loss 0.0499\n",
            "Epoch 22 Batch 200 Loss 0.0271\n",
            "Epoch 22 Batch 300 Loss 0.0341\n",
            "Epoch 22 Batch 400 Loss 0.0522\n",
            "Epoch 22 Batch 500 Loss 0.0633\n",
            "Epoch 22 Batch 600 Loss 0.0651\n",
            "Epoch 22 Batch 700 Loss 0.0511\n",
            "Epoch 22 Batch 800 Loss 0.0428\n",
            "Epoch 22 Batch 900 Loss 0.0437\n",
            "Epoch 22 Batch 1000 Loss 0.0906\n",
            "Epoch 22 Batch 1100 Loss 0.0832\n",
            "Epoch 22 Batch 1200 Loss 0.0424\n",
            "Epoch 22 Loss 0.0504\n",
            "Time taken for 1 epoch 210.09034371376038 sec\n",
            "\n",
            "Epoch 23 Batch 0 Loss 0.0468\n",
            "Epoch 23 Batch 100 Loss 0.0203\n",
            "Epoch 23 Batch 200 Loss 0.0495\n",
            "Epoch 23 Batch 300 Loss 0.0335\n",
            "Epoch 23 Batch 400 Loss 0.0539\n",
            "Epoch 23 Batch 500 Loss 0.0602\n",
            "Epoch 23 Batch 600 Loss 0.0605\n",
            "Epoch 23 Batch 700 Loss 0.0640\n",
            "Epoch 23 Batch 800 Loss 0.0384\n",
            "Epoch 23 Batch 900 Loss 0.0338\n",
            "Epoch 23 Batch 1000 Loss 0.0386\n",
            "Epoch 23 Batch 1100 Loss 0.0591\n",
            "Epoch 23 Batch 1200 Loss 0.0556\n",
            "Epoch 23 Loss 0.0498\n",
            "Time taken for 1 epoch 209.68831515312195 sec\n",
            "\n",
            "Epoch 24 Batch 0 Loss 0.0233\n",
            "Epoch 24 Batch 100 Loss 0.0310\n",
            "Epoch 24 Batch 200 Loss 0.0177\n",
            "Epoch 24 Batch 300 Loss 0.0455\n",
            "Epoch 24 Batch 400 Loss 0.0297\n",
            "Epoch 24 Batch 500 Loss 0.0356\n",
            "Epoch 24 Batch 600 Loss 0.0497\n",
            "Epoch 24 Batch 700 Loss 0.0630\n",
            "Epoch 24 Batch 800 Loss 0.0421\n",
            "Epoch 24 Batch 900 Loss 0.0752\n",
            "Epoch 24 Batch 1000 Loss 0.0435\n",
            "Epoch 24 Batch 1100 Loss 0.0434\n",
            "Epoch 24 Batch 1200 Loss 0.0659\n",
            "Epoch 24 Loss 0.0505\n",
            "Time taken for 1 epoch 210.2437219619751 sec\n",
            "\n",
            "Epoch 25 Batch 0 Loss 0.0440\n",
            "Epoch 25 Batch 100 Loss 0.0300\n",
            "Epoch 25 Batch 200 Loss 0.0229\n",
            "Epoch 25 Batch 300 Loss 0.0454\n",
            "Epoch 25 Batch 400 Loss 0.0431\n",
            "Epoch 25 Batch 500 Loss 0.0431\n",
            "Epoch 25 Batch 600 Loss 0.0362\n",
            "Epoch 25 Batch 700 Loss 0.0532\n",
            "Epoch 25 Batch 800 Loss 0.0360\n",
            "Epoch 25 Batch 900 Loss 0.0535\n",
            "Epoch 25 Batch 1000 Loss 0.0434\n",
            "Epoch 25 Batch 1100 Loss 0.0602\n",
            "Epoch 25 Batch 1200 Loss 0.0452\n",
            "Epoch 25 Loss 0.0490\n",
            "Time taken for 1 epoch 209.09270644187927 sec\n",
            "\n",
            "Epoch 26 Batch 0 Loss 0.0417\n",
            "Epoch 26 Batch 100 Loss 0.0156\n",
            "Epoch 26 Batch 200 Loss 0.0420\n",
            "Epoch 26 Batch 300 Loss 0.0335\n",
            "Epoch 26 Batch 400 Loss 0.0343\n",
            "Epoch 26 Batch 500 Loss 0.0636\n",
            "Epoch 26 Batch 600 Loss 0.0479\n",
            "Epoch 26 Batch 700 Loss 0.0674\n",
            "Epoch 26 Batch 800 Loss 0.0606\n",
            "Epoch 26 Batch 900 Loss 0.0316\n",
            "Epoch 26 Batch 1000 Loss 0.0535\n",
            "Epoch 26 Batch 1100 Loss 0.0288\n",
            "Epoch 26 Batch 1200 Loss 0.1146\n",
            "Epoch 26 Loss 0.0486\n",
            "Time taken for 1 epoch 210.7917914390564 sec\n",
            "\n",
            "Epoch 27 Batch 0 Loss 0.0503\n",
            "Epoch 27 Batch 100 Loss 0.0467\n",
            "Epoch 27 Batch 200 Loss 0.0506\n",
            "Epoch 27 Batch 300 Loss 0.0340\n",
            "Epoch 27 Batch 400 Loss 0.0686\n",
            "Epoch 27 Batch 500 Loss 0.0454\n",
            "Epoch 27 Batch 600 Loss 0.0522\n",
            "Epoch 27 Batch 700 Loss 0.0628\n",
            "Epoch 27 Batch 800 Loss 0.0804\n",
            "Epoch 27 Batch 900 Loss 0.0410\n",
            "Epoch 27 Batch 1000 Loss 0.0378\n",
            "Epoch 27 Batch 1100 Loss 0.0470\n",
            "Epoch 27 Batch 1200 Loss 0.0722\n",
            "Epoch 27 Loss 0.0483\n",
            "Time taken for 1 epoch 210.1799819469452 sec\n",
            "\n",
            "Epoch 28 Batch 0 Loss 0.0552\n",
            "Epoch 28 Batch 100 Loss 0.0586\n",
            "Epoch 28 Batch 200 Loss 0.0649\n",
            "Epoch 28 Batch 300 Loss 0.0320\n",
            "Epoch 28 Batch 400 Loss 0.0613\n",
            "Epoch 28 Batch 500 Loss 0.0316\n",
            "Epoch 28 Batch 600 Loss 0.0625\n",
            "Epoch 28 Batch 700 Loss 0.0382\n",
            "Epoch 28 Batch 800 Loss 0.0520\n",
            "Epoch 28 Batch 900 Loss 0.0508\n",
            "Epoch 28 Batch 1000 Loss 0.0619\n",
            "Epoch 28 Batch 1100 Loss 0.0576\n",
            "Epoch 28 Batch 1200 Loss 0.0680\n",
            "Epoch 28 Loss 0.0467\n",
            "Time taken for 1 epoch 210.680597782135 sec\n",
            "\n",
            "Epoch 29 Batch 0 Loss 0.0235\n",
            "Epoch 29 Batch 100 Loss 0.0243\n",
            "Epoch 29 Batch 200 Loss 0.0234\n",
            "Epoch 29 Batch 300 Loss 0.0359\n",
            "Epoch 29 Batch 400 Loss 0.0646\n",
            "Epoch 29 Batch 500 Loss 0.0367\n",
            "Epoch 29 Batch 600 Loss 0.0375\n",
            "Epoch 29 Batch 700 Loss 0.0231\n",
            "Epoch 29 Batch 800 Loss 0.0285\n",
            "Epoch 29 Batch 900 Loss 0.0574\n",
            "Epoch 29 Batch 1000 Loss 0.0536\n",
            "Epoch 29 Batch 1100 Loss 0.0778\n",
            "Epoch 29 Batch 1200 Loss 0.0367\n",
            "Epoch 29 Loss 0.0456\n",
            "Time taken for 1 epoch 209.5912790298462 sec\n",
            "\n",
            "Epoch 30 Batch 0 Loss 0.0377\n",
            "Epoch 30 Batch 100 Loss 0.0440\n",
            "Epoch 30 Batch 200 Loss 0.0411\n",
            "Epoch 30 Batch 300 Loss 0.0980\n",
            "Epoch 30 Batch 400 Loss 0.0347\n",
            "Epoch 30 Batch 500 Loss 0.0771\n",
            "Epoch 30 Batch 600 Loss 0.0554\n",
            "Epoch 30 Batch 700 Loss 0.0329\n",
            "Epoch 30 Batch 800 Loss 0.0312\n",
            "Epoch 30 Batch 900 Loss 0.0340\n",
            "Epoch 30 Batch 1000 Loss 0.0387\n",
            "Epoch 30 Batch 1100 Loss 0.0586\n",
            "Epoch 30 Batch 1200 Loss 0.0794\n",
            "Epoch 30 Loss 0.0462\n",
            "Time taken for 1 epoch 209.7515892982483 sec\n",
            "\n",
            "Epoch 31 Batch 0 Loss 0.0479\n",
            "Epoch 31 Batch 100 Loss 0.0358\n",
            "Epoch 31 Batch 200 Loss 0.0493\n",
            "Epoch 31 Batch 300 Loss 0.0396\n",
            "Epoch 31 Batch 400 Loss 0.0274\n",
            "Epoch 31 Batch 500 Loss 0.0313\n",
            "Epoch 31 Batch 600 Loss 0.0293\n",
            "Epoch 31 Batch 700 Loss 0.0644\n",
            "Epoch 31 Batch 800 Loss 0.0447\n",
            "Epoch 31 Batch 900 Loss 0.0495\n",
            "Epoch 31 Batch 1000 Loss 0.0767\n",
            "Epoch 31 Batch 1100 Loss 0.0507\n",
            "Epoch 31 Batch 1200 Loss 0.0688\n",
            "Epoch 31 Loss 0.0458\n",
            "Time taken for 1 epoch 210.43571090698242 sec\n",
            "\n",
            "Epoch 32 Batch 0 Loss 0.0365\n",
            "Epoch 32 Batch 100 Loss 0.0212\n",
            "Epoch 32 Batch 200 Loss 0.0247\n",
            "Epoch 32 Batch 300 Loss 0.0318\n",
            "Epoch 32 Batch 400 Loss 0.0679\n",
            "Epoch 32 Batch 500 Loss 0.0612\n",
            "Epoch 32 Batch 600 Loss 0.0379\n",
            "Epoch 32 Batch 700 Loss 0.0343\n",
            "Epoch 32 Batch 800 Loss 0.0359\n",
            "Epoch 32 Batch 900 Loss 0.0530\n",
            "Epoch 32 Batch 1000 Loss 0.0548\n",
            "Epoch 32 Batch 1100 Loss 0.0749\n",
            "Epoch 32 Batch 1200 Loss 0.0945\n",
            "Epoch 32 Loss 0.0443\n",
            "Time taken for 1 epoch 210.90564823150635 sec\n",
            "\n",
            "Epoch 33 Batch 0 Loss 0.0268\n",
            "Epoch 33 Batch 100 Loss 0.0472\n",
            "Epoch 33 Batch 200 Loss 0.0545\n",
            "Epoch 33 Batch 300 Loss 0.0344\n",
            "Epoch 33 Batch 400 Loss 0.0445\n",
            "Epoch 33 Batch 500 Loss 0.0844\n",
            "Epoch 33 Batch 600 Loss 0.0588\n",
            "Epoch 33 Batch 700 Loss 0.0651\n",
            "Epoch 33 Batch 800 Loss 0.0559\n",
            "Epoch 33 Batch 900 Loss 0.0504\n",
            "Epoch 33 Batch 1000 Loss 0.0437\n",
            "Epoch 33 Batch 1100 Loss 0.0294\n",
            "Epoch 33 Batch 1200 Loss 0.0616\n",
            "Epoch 33 Loss 0.0437\n",
            "Time taken for 1 epoch 210.44245624542236 sec\n",
            "\n",
            "Epoch 34 Batch 0 Loss 0.0264\n",
            "Epoch 34 Batch 100 Loss 0.0410\n",
            "Epoch 34 Batch 200 Loss 0.0393\n",
            "Epoch 34 Batch 300 Loss 0.0507\n",
            "Epoch 34 Batch 400 Loss 0.0331\n",
            "Epoch 34 Batch 500 Loss 0.0361\n",
            "Epoch 34 Batch 600 Loss 0.0593\n",
            "Epoch 34 Batch 700 Loss 0.0443\n",
            "Epoch 34 Batch 800 Loss 0.0440\n",
            "Epoch 34 Batch 900 Loss 0.0501\n",
            "Epoch 34 Batch 1000 Loss 0.0642\n",
            "Epoch 34 Batch 1100 Loss 0.0602\n",
            "Epoch 34 Batch 1200 Loss 0.0407\n",
            "Epoch 34 Loss 0.0443\n",
            "Time taken for 1 epoch 211.35627579689026 sec\n",
            "\n",
            "Epoch 35 Batch 0 Loss 0.0299\n",
            "Epoch 35 Batch 100 Loss 0.0244\n",
            "Epoch 35 Batch 200 Loss 0.0290\n",
            "Epoch 35 Batch 300 Loss 0.0359\n",
            "Epoch 35 Batch 400 Loss 0.0507\n",
            "Epoch 35 Batch 500 Loss 0.0290\n",
            "Epoch 35 Batch 600 Loss 0.0436\n",
            "Epoch 35 Batch 700 Loss 0.0631\n",
            "Epoch 35 Batch 800 Loss 0.0629\n",
            "Epoch 35 Batch 900 Loss 0.0497\n",
            "Epoch 35 Batch 1000 Loss 0.0382\n",
            "Epoch 35 Batch 1100 Loss 0.0675\n",
            "Epoch 35 Batch 1200 Loss 0.0573\n",
            "Epoch 35 Loss 0.0448\n",
            "Time taken for 1 epoch 210.7275767326355 sec\n",
            "\n",
            "Epoch 36 Batch 0 Loss 0.0438\n",
            "Epoch 36 Batch 100 Loss 0.0263\n",
            "Epoch 36 Batch 200 Loss 0.0252\n",
            "Epoch 36 Batch 300 Loss 0.0354\n",
            "Epoch 36 Batch 400 Loss 0.0401\n",
            "Epoch 36 Batch 500 Loss 0.0264\n",
            "Epoch 36 Batch 600 Loss 0.0281\n",
            "Epoch 36 Batch 700 Loss 0.0410\n",
            "Epoch 36 Batch 800 Loss 0.0351\n",
            "Epoch 36 Batch 900 Loss 0.0508\n",
            "Epoch 36 Batch 1000 Loss 0.0411\n",
            "Epoch 36 Batch 1100 Loss 0.0348\n",
            "Epoch 36 Batch 1200 Loss 0.0452\n",
            "Epoch 36 Loss 0.0429\n",
            "Time taken for 1 epoch 211.23850774765015 sec\n",
            "\n",
            "Epoch 37 Batch 0 Loss 0.0396\n",
            "Epoch 37 Batch 100 Loss 0.0272\n",
            "Epoch 37 Batch 200 Loss 0.0378\n",
            "Epoch 37 Batch 300 Loss 0.0373\n",
            "Epoch 37 Batch 400 Loss 0.0419\n",
            "Epoch 37 Batch 500 Loss 0.0299\n",
            "Epoch 37 Batch 600 Loss 0.0371\n",
            "Epoch 37 Batch 700 Loss 0.0555\n",
            "Epoch 37 Batch 800 Loss 0.0502\n",
            "Epoch 37 Batch 900 Loss 0.0486\n",
            "Epoch 37 Batch 1000 Loss 0.0638\n",
            "Epoch 37 Batch 1100 Loss 0.0324\n",
            "Epoch 37 Batch 1200 Loss 0.0382\n",
            "Epoch 37 Loss 0.0416\n",
            "Time taken for 1 epoch 210.1601951122284 sec\n",
            "\n",
            "Epoch 38 Batch 0 Loss 0.0324\n",
            "Epoch 38 Batch 100 Loss 0.0246\n",
            "Epoch 38 Batch 200 Loss 0.0330\n",
            "Epoch 38 Batch 300 Loss 0.0310\n",
            "Epoch 38 Batch 400 Loss 0.0708\n",
            "Epoch 38 Batch 500 Loss 0.0267\n",
            "Epoch 38 Batch 600 Loss 0.0246\n",
            "Epoch 38 Batch 700 Loss 0.0590\n",
            "Epoch 38 Batch 800 Loss 0.0429\n",
            "Epoch 38 Batch 900 Loss 0.0352\n",
            "Epoch 38 Batch 1000 Loss 0.0436\n",
            "Epoch 38 Batch 1100 Loss 0.0512\n",
            "Epoch 38 Batch 1200 Loss 0.0557\n",
            "Epoch 38 Loss 0.0421\n",
            "Time taken for 1 epoch 210.961012840271 sec\n",
            "\n",
            "Epoch 39 Batch 0 Loss 0.0330\n",
            "Epoch 39 Batch 100 Loss 0.0302\n",
            "Epoch 39 Batch 200 Loss 0.0368\n",
            "Epoch 39 Batch 300 Loss 0.0170\n",
            "Epoch 39 Batch 400 Loss 0.0272\n",
            "Epoch 39 Batch 500 Loss 0.0505\n",
            "Epoch 39 Batch 600 Loss 0.0333\n",
            "Epoch 39 Batch 700 Loss 0.0570\n",
            "Epoch 39 Batch 800 Loss 0.0305\n",
            "Epoch 39 Batch 900 Loss 0.0612\n",
            "Epoch 39 Batch 1000 Loss 0.0452\n",
            "Epoch 39 Batch 1100 Loss 0.0533\n",
            "Epoch 39 Batch 1200 Loss 0.0718\n",
            "Epoch 39 Loss 0.0424\n",
            "Time taken for 1 epoch 209.81482481956482 sec\n",
            "\n",
            "Epoch 40 Batch 0 Loss 0.0242\n",
            "Epoch 40 Batch 100 Loss 0.0379\n",
            "Epoch 40 Batch 200 Loss 0.0319\n",
            "Epoch 40 Batch 300 Loss 0.0475\n",
            "Epoch 40 Batch 400 Loss 0.0510\n",
            "Epoch 40 Batch 500 Loss 0.0608\n",
            "Epoch 40 Batch 600 Loss 0.0446\n",
            "Epoch 40 Batch 700 Loss 0.0342\n",
            "Epoch 40 Batch 800 Loss 0.0435\n",
            "Epoch 40 Batch 900 Loss 0.0385\n",
            "Epoch 40 Batch 1000 Loss 0.0605\n",
            "Epoch 40 Batch 1100 Loss 0.0665\n",
            "Epoch 40 Batch 1200 Loss 0.0378\n",
            "Epoch 40 Loss 0.0417\n",
            "Time taken for 1 epoch 210.6890470981598 sec\n",
            "\n",
            "Epoch 41 Batch 0 Loss 0.0387\n",
            "Epoch 41 Batch 100 Loss 0.0292\n",
            "Epoch 41 Batch 200 Loss 0.0431\n",
            "Epoch 41 Batch 300 Loss 0.0294\n",
            "Epoch 41 Batch 400 Loss 0.0488\n",
            "Epoch 41 Batch 500 Loss 0.0491\n",
            "Epoch 41 Batch 600 Loss 0.0282\n",
            "Epoch 41 Batch 700 Loss 0.0577\n",
            "Epoch 41 Batch 800 Loss 0.0405\n",
            "Epoch 41 Batch 900 Loss 0.0385\n",
            "Epoch 41 Batch 1000 Loss 0.0401\n",
            "Epoch 41 Batch 1100 Loss 0.0350\n",
            "Epoch 41 Batch 1200 Loss 0.0341\n",
            "Epoch 41 Loss 0.0420\n",
            "Time taken for 1 epoch 210.5550992488861 sec\n",
            "\n",
            "Epoch 42 Batch 0 Loss 0.0534\n",
            "Epoch 42 Batch 100 Loss 0.0410\n",
            "Epoch 42 Batch 200 Loss 0.0443\n",
            "Epoch 42 Batch 300 Loss 0.0680\n",
            "Epoch 42 Batch 400 Loss 0.0264\n",
            "Epoch 42 Batch 500 Loss 0.0315\n",
            "Epoch 42 Batch 600 Loss 0.0439\n",
            "Epoch 42 Batch 700 Loss 0.0362\n",
            "Epoch 42 Batch 800 Loss 0.0342\n",
            "Epoch 42 Batch 900 Loss 0.0309\n",
            "Epoch 42 Batch 1000 Loss 0.0589\n",
            "Epoch 42 Batch 1100 Loss 0.0314\n",
            "Epoch 42 Batch 1200 Loss 0.0585\n",
            "Epoch 42 Loss 0.0411\n",
            "Time taken for 1 epoch 211.56182861328125 sec\n",
            "\n",
            "Epoch 43 Batch 0 Loss 0.0430\n",
            "Epoch 43 Batch 100 Loss 0.0188\n",
            "Epoch 43 Batch 200 Loss 0.0480\n",
            "Epoch 43 Batch 300 Loss 0.0338\n",
            "Epoch 43 Batch 400 Loss 0.0381\n",
            "Epoch 43 Batch 500 Loss 0.0270\n",
            "Epoch 43 Batch 600 Loss 0.0343\n",
            "Epoch 43 Batch 700 Loss 0.0447\n",
            "Epoch 43 Batch 800 Loss 0.0514\n",
            "Epoch 43 Batch 900 Loss 0.0584\n",
            "Epoch 43 Batch 1000 Loss 0.0586\n",
            "Epoch 43 Batch 1100 Loss 0.0446\n",
            "Epoch 43 Batch 1200 Loss 0.0690\n",
            "Epoch 43 Loss 0.0392\n",
            "Time taken for 1 epoch 210.4746859073639 sec\n",
            "\n",
            "Epoch 44 Batch 0 Loss 0.0182\n",
            "Epoch 44 Batch 100 Loss 0.0252\n",
            "Epoch 44 Batch 200 Loss 0.0200\n",
            "Epoch 44 Batch 300 Loss 0.0427\n",
            "Epoch 44 Batch 400 Loss 0.0329\n",
            "Epoch 44 Batch 500 Loss 0.0503\n",
            "Epoch 44 Batch 600 Loss 0.0664\n",
            "Epoch 44 Batch 700 Loss 0.0531\n",
            "Epoch 44 Batch 800 Loss 0.0292\n",
            "Epoch 44 Batch 900 Loss 0.0538\n",
            "Epoch 44 Batch 1000 Loss 0.0478\n",
            "Epoch 44 Batch 1100 Loss 0.0347\n",
            "Epoch 44 Batch 1200 Loss 0.0396\n",
            "Epoch 44 Loss 0.0403\n",
            "Time taken for 1 epoch 210.87826943397522 sec\n",
            "\n",
            "Epoch 45 Batch 0 Loss 0.0195\n",
            "Epoch 45 Batch 100 Loss 0.0224\n",
            "Epoch 45 Batch 200 Loss 0.0240\n",
            "Epoch 45 Batch 300 Loss 0.0273\n",
            "Epoch 45 Batch 400 Loss 0.0226\n",
            "Epoch 45 Batch 500 Loss 0.0530\n",
            "Epoch 45 Batch 600 Loss 0.0139\n",
            "Epoch 45 Batch 700 Loss 0.0171\n",
            "Epoch 45 Batch 800 Loss 0.0507\n",
            "Epoch 45 Batch 900 Loss 0.0604\n",
            "Epoch 45 Batch 1000 Loss 0.0288\n",
            "Epoch 45 Batch 1100 Loss 0.0326\n",
            "Epoch 45 Batch 1200 Loss 0.0431\n",
            "Epoch 45 Loss 0.0395\n",
            "Time taken for 1 epoch 210.9691858291626 sec\n",
            "\n",
            "Epoch 46 Batch 0 Loss 0.0097\n",
            "Epoch 46 Batch 100 Loss 0.0353\n",
            "Epoch 46 Batch 200 Loss 0.0574\n",
            "Epoch 46 Batch 300 Loss 0.0496\n",
            "Epoch 46 Batch 400 Loss 0.0363\n",
            "Epoch 46 Batch 500 Loss 0.0215\n",
            "Epoch 46 Batch 600 Loss 0.0376\n",
            "Epoch 46 Batch 700 Loss 0.0437\n",
            "Epoch 46 Batch 800 Loss 0.0352\n",
            "Epoch 46 Batch 900 Loss 0.0517\n",
            "Epoch 46 Batch 1000 Loss 0.0629\n",
            "Epoch 46 Batch 1100 Loss 0.0586\n",
            "Epoch 46 Batch 1200 Loss 0.0365\n",
            "Epoch 46 Loss 0.0402\n",
            "Time taken for 1 epoch 211.47546291351318 sec\n",
            "\n",
            "Epoch 47 Batch 0 Loss 0.0304\n",
            "Epoch 47 Batch 100 Loss 0.0271\n",
            "Epoch 47 Batch 200 Loss 0.0384\n",
            "Epoch 47 Batch 300 Loss 0.0492\n",
            "Epoch 47 Batch 400 Loss 0.0168\n",
            "Epoch 47 Batch 500 Loss 0.0391\n",
            "Epoch 47 Batch 600 Loss 0.0312\n",
            "Epoch 47 Batch 700 Loss 0.0521\n",
            "Epoch 47 Batch 800 Loss 0.0450\n",
            "Epoch 47 Batch 900 Loss 0.0611\n",
            "Epoch 47 Batch 1000 Loss 0.0572\n",
            "Epoch 47 Batch 1100 Loss 0.0361\n",
            "Epoch 47 Batch 1200 Loss 0.0606\n",
            "Epoch 47 Loss 0.0397\n",
            "Time taken for 1 epoch 210.65072107315063 sec\n",
            "\n",
            "Epoch 48 Batch 0 Loss 0.0521\n",
            "Epoch 48 Batch 100 Loss 0.0426\n",
            "Epoch 48 Batch 200 Loss 0.0609\n",
            "Epoch 48 Batch 300 Loss 0.0312\n",
            "Epoch 48 Batch 400 Loss 0.0255\n",
            "Epoch 48 Batch 500 Loss 0.0582\n",
            "Epoch 48 Batch 600 Loss 0.0336\n",
            "Epoch 48 Batch 700 Loss 0.0216\n",
            "Epoch 48 Batch 800 Loss 0.0435\n",
            "Epoch 48 Batch 900 Loss 0.0383\n",
            "Epoch 48 Batch 1000 Loss 0.0607\n",
            "Epoch 48 Batch 1100 Loss 0.0441\n",
            "Epoch 48 Batch 1200 Loss 0.0653\n",
            "Epoch 48 Loss 0.0412\n",
            "Time taken for 1 epoch 211.42583918571472 sec\n",
            "\n",
            "Epoch 49 Batch 0 Loss 0.0439\n",
            "Epoch 49 Batch 100 Loss 0.0270\n",
            "Epoch 49 Batch 200 Loss 0.0343\n",
            "Epoch 49 Batch 300 Loss 0.0444\n",
            "Epoch 49 Batch 400 Loss 0.0292\n",
            "Epoch 49 Batch 500 Loss 0.0283\n",
            "Epoch 49 Batch 600 Loss 0.0221\n",
            "Epoch 49 Batch 700 Loss 0.0579\n",
            "Epoch 49 Batch 800 Loss 0.0333\n",
            "Epoch 49 Batch 900 Loss 0.0283\n",
            "Epoch 49 Batch 1000 Loss 0.0305\n",
            "Epoch 49 Batch 1100 Loss 0.0443\n",
            "Epoch 49 Batch 1200 Loss 0.0348\n",
            "Epoch 49 Loss 0.0393\n",
            "Time taken for 1 epoch 210.73339915275574 sec\n",
            "\n",
            "Epoch 50 Batch 0 Loss 0.0215\n",
            "Epoch 50 Batch 100 Loss 0.0278\n",
            "Epoch 50 Batch 200 Loss 0.0336\n",
            "Epoch 50 Batch 300 Loss 0.0578\n",
            "Epoch 50 Batch 400 Loss 0.0342\n",
            "Epoch 50 Batch 500 Loss 0.0353\n",
            "Epoch 50 Batch 600 Loss 0.0328\n",
            "Epoch 50 Batch 700 Loss 0.0443\n",
            "Epoch 50 Batch 800 Loss 0.0441\n",
            "Epoch 50 Batch 900 Loss 0.0439\n",
            "Epoch 50 Batch 1000 Loss 0.0277\n",
            "Epoch 50 Batch 1100 Loss 0.0402\n",
            "Epoch 50 Batch 1200 Loss 0.0538\n",
            "Epoch 50 Loss 0.0392\n",
            "Time taken for 1 epoch 211.35101795196533 sec\n",
            "\n"
          ],
          "name": "stdout"
        }
      ]
    },
    {
      "cell_type": "markdown",
      "metadata": {
        "id": "mU3Ce8M6I3rz"
      },
      "source": [
        "## Translate\n",
        "\n",
        "* The evaluate function is similar to the training loop, except we don't use *teacher forcing* here. The input to the decoder at each time step is its previous predictions along with the hidden state and the encoder output.\n",
        "* Stop predicting when the model predicts the *end token*.\n",
        "* And store the *attention weights for every time step*.\n",
        "\n",
        "Note: The encoder output is calculated only once for one input."
      ]
    },
    {
      "cell_type": "code",
      "metadata": {
        "id": "EbQpyYs13jF_"
      },
      "source": [
        "def evaluate(sentence):\n",
        "  attention_plot = np.zeros((max_length_targ, max_length_inp))\n",
        "\n",
        "  sentence = preprocess_sentence(sentence)\n",
        "\n",
        "  inputs = [inp_lang.word_index[i] for i in sentence.split(' ')]\n",
        "  inputs = tf.keras.preprocessing.sequence.pad_sequences([inputs],\n",
        "                                                         maxlen=max_length_inp,\n",
        "                                                         padding='post')\n",
        "  inputs = tf.convert_to_tensor(inputs)\n",
        "\n",
        "  result = ''\n",
        "\n",
        "  hidden = [tf.zeros((1, units))]\n",
        "  enc_out, enc_hidden = encoder(inputs, hidden)\n",
        "\n",
        "  dec_hidden = enc_hidden\n",
        "  dec_input = tf.expand_dims([targ_lang.word_index['<start>']], 0)\n",
        "\n",
        "  for t in range(max_length_targ):\n",
        "    predictions, dec_hidden, attention_weights = decoder(dec_input,\n",
        "                                                         dec_hidden,\n",
        "                                                         enc_out)\n",
        "\n",
        "    # storing the attention weights to plot later on\n",
        "    attention_weights = tf.reshape(attention_weights, (-1, ))\n",
        "    attention_plot[t] = attention_weights.numpy()\n",
        "\n",
        "    predicted_id = tf.argmax(predictions[0]).numpy()\n",
        "\n",
        "    result += targ_lang.index_word[predicted_id] + ' '\n",
        "\n",
        "    if targ_lang.index_word[predicted_id] == '<end>':\n",
        "      return result, sentence, attention_plot\n",
        "\n",
        "    # the predicted ID is fed back into the model\n",
        "    dec_input = tf.expand_dims([predicted_id], 0)\n",
        "\n",
        "  return result, sentence, attention_plot"
      ],
      "execution_count": 29,
      "outputs": []
    },
    {
      "cell_type": "code",
      "metadata": {
        "id": "Qjy26Fe8Bv5d"
      },
      "source": [
        "# function for plotting the attention weights\n",
        "def plot_attention(attention, sentence, predicted_sentence):\n",
        "  fig = plt.figure(figsize=(10,10))\n",
        "  ax = fig.add_subplot(1, 1, 1)\n",
        "  ax.matshow(attention, cmap='viridis')\n",
        "\n",
        "  fontdict = {'fontsize': 14}\n",
        "\n",
        "  ax.set_xticklabels([''] + sentence, fontdict=fontdict, rotation=90)\n",
        "  ax.set_yticklabels([''] + predicted_sentence, fontdict=fontdict)\n",
        "\n",
        "  ax.xaxis.set_major_locator(ticker.MultipleLocator(1))\n",
        "  ax.yaxis.set_major_locator(ticker.MultipleLocator(1))\n",
        "\n",
        "  plt.show()"
      ],
      "execution_count": 30,
      "outputs": []
    },
    {
      "cell_type": "code",
      "metadata": {
        "id": "sl9zUHzg3jGI"
      },
      "source": [
        "def translate(sentence):\n",
        "  result, sentence, attention_plot = evaluate(sentence)\n",
        "\n",
        "  print('Input: %s' % (sentence))\n",
        "  print('Predicted translation: {}'.format(result))\n",
        "\n",
        "  attention_plot = attention_plot[:len(result.split(' ')), :len(sentence.split(' '))]\n",
        "  plot_attention(attention_plot, sentence.split(' '), result.split(' '))"
      ],
      "execution_count": 31,
      "outputs": []
    },
    {
      "cell_type": "markdown",
      "metadata": {
        "id": "n250XbnjOaqP"
      },
      "source": [
        "## Restore the latest checkpoint and test"
      ]
    },
    {
      "cell_type": "code",
      "metadata": {
        "id": "UJpT9D5_OgP6",
        "colab": {
          "base_uri": "https://localhost:8080/"
        },
        "outputId": "71a5fe43-fe2f-4a84-d4d9-c43c89f9e2df"
      },
      "source": [
        "# restoring the latest checkpoint in checkpoint_dir\n",
        "checkpoint.restore(tf.train.latest_checkpoint(checkpoint_dir))"
      ],
      "execution_count": 32,
      "outputs": [
        {
          "output_type": "execute_result",
          "data": {
            "text/plain": [
              "<tensorflow.python.training.tracking.util.CheckpointLoadStatus at 0x7fe2141e46d0>"
            ]
          },
          "metadata": {
            "tags": []
          },
          "execution_count": 32
        }
      ]
    },
    {
      "cell_type": "code",
      "metadata": {
        "id": "WrAM0FDomq3E",
        "colab": {
          "base_uri": "https://localhost:8080/",
          "height": 675
        },
        "outputId": "ce5401cf-79a8-4f0f-c443-1ed0a24cbc2f"
      },
      "source": [
        "translate('Идет дождь.')"
      ],
      "execution_count": 34,
      "outputs": [
        {
          "output_type": "stream",
          "text": [
            "Input: <start> идет дождь . <end>\n",
            "Predicted translation: it's raining . <end> \n"
          ],
          "name": "stdout"
        },
        {
          "output_type": "display_data",
          "data": {
            "image/png": "[encoded data removed]",
            "text/plain": [
              "<Figure size 720x720 with 1 Axes>"
            ]
          },
          "metadata": {
            "tags": [],
            "needs_background": "light"
          }
        }
      ]
    },
    {
      "cell_type": "code",
      "metadata": {
        "id": "5bhFfwcIMX5i",
        "colab": {
          "base_uri": "https://localhost:8080/",
          "height": 681
        },
        "outputId": "f11602d3-8d3d-4c71-8033-33c9f919c112"
      },
      "source": [
        "translate('Сегодня пятница.')"
      ],
      "execution_count": 35,
      "outputs": [
        {
          "output_type": "stream",
          "text": [
            "Input: <start> сегодня пятница . <end>\n",
            "Predicted translation: today is friday . <end> \n"
          ],
          "name": "stdout"
        },
        {
          "output_type": "display_data",
          "data": {
            "image/png": "[encoded data removed]",
            "text/plain": [
              "<Figure size 720x720 with 1 Axes>"
            ]
          },
          "metadata": {
            "tags": [],
            "needs_background": "light"
          }
        }
      ]
    },
    {
      "cell_type": "code",
      "metadata": {
        "id": "zSx2iM36EZQZ",
        "colab": {
          "base_uri": "https://localhost:8080/",
          "height": 675
        },
        "outputId": "f50f2476-32bd-40dc-b35a-ce117bdd6741"
      },
      "source": [
        "translate(u'Как у вас дела?')"
      ],
      "execution_count": 36,
      "outputs": [
        {
          "output_type": "stream",
          "text": [
            "Input: <start> как у вас дела ? <end>\n",
            "Predicted translation: how are you doing ? <end> \n"
          ],
          "name": "stdout"
        },
        {
          "output_type": "display_data",
          "data": {
            "image/png": "[encoded data removed]",
            "text/plain": [
              "<Figure size 720x720 with 1 Axes>"
            ]
          },
          "metadata": {
            "tags": [],
            "needs_background": "light"
          }
        }
      ]
    },
    {
      "cell_type": "code",
      "metadata": {
        "id": "A3LLCx3ZE0Ls",
        "colab": {
          "base_uri": "https://localhost:8080/",
          "height": 690
        },
        "outputId": "c151bf1d-1ef5-4a97-c8cc-48c6971e9d20"
      },
      "source": [
        "translate(u'Вы когда приедете?')"
      ],
      "execution_count": 37,
      "outputs": [
        {
          "output_type": "stream",
          "text": [
            "Input: <start> вы когда приедете ? <end>\n",
            "Predicted translation: when will you arrive ? <end> \n"
          ],
          "name": "stdout"
        },
        {
          "output_type": "display_data",
          "data": {
            "image/png": "[encoded data removed]",
            "text/plain": [
              "<Figure size 720x720 with 1 Axes>"
            ]
          },
          "metadata": {
            "tags": [],
            "needs_background": "light"
          }
        }
      ]
    },
    {
      "cell_type": "code",
      "metadata": {
        "id": "DUQVLVqUE1YW",
        "colab": {
          "base_uri": "https://localhost:8080/",
          "height": 577
        },
        "outputId": "34092ca9-1e6f-483f-a8c7-013902333044"
      },
      "source": [
        "translate(u'Не говорите мне ничего об этом.')"
      ],
      "execution_count": 38,
      "outputs": [
        {
          "output_type": "stream",
          "text": [
            "Input: <start> не говорите мне ничего об этом . <end>\n",
            "Predicted translation: don't tell me why . <end> \n"
          ],
          "name": "stdout"
        },
        {
          "output_type": "display_data",
          "data": {
            "image/png": "[encoded data removed]",
            "text/plain": [
              "<Figure size 720x720 with 1 Axes>"
            ]
          },
          "metadata": {
            "tags": [],
            "needs_background": "light"
          }
        }
      ]
    },
    {
      "cell_type": "code",
      "metadata": {
        "id": "jdXES85KkTVS"
      },
      "source": [
        ""
      ],
      "execution_count": null,
      "outputs": []
    }
  ]
}